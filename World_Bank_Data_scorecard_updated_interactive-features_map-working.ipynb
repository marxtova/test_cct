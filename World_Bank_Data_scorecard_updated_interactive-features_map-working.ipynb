{
 "cells": [
  {
   "cell_type": "markdown",
   "metadata": {},
   "source": [
    "# Scorecard"
   ]
  },
  {
   "cell_type": "markdown",
   "metadata": {},
   "source": [
    "## 1. Importing packages, basic familiarisation with World Bank package"
   ]
  },
  {
   "cell_type": "code",
   "execution_count": 1,
   "metadata": {},
   "outputs": [],
   "source": [
    "# https://pypi.org/project/world-bank-data/"
   ]
  },
  {
   "cell_type": "code",
   "execution_count": 2,
   "metadata": {},
   "outputs": [],
   "source": [
    "# pip install world_bank_data --upgrade"
   ]
  },
  {
   "cell_type": "code",
   "execution_count": 3,
   "metadata": {},
   "outputs": [],
   "source": [
    "# pip install voila"
   ]
  },
  {
   "cell_type": "code",
   "execution_count": 4,
   "metadata": {},
   "outputs": [],
   "source": [
    "import pandas as pd\n",
    "import world_bank_data as wb\n",
    "import warnings \n",
    "import ipywidgets as widgets\n",
    "from sklearn.preprocessing import StandardScaler\n",
    "from sklearn.compose import ColumnTransformer\n",
    "import scipy.stats as stats\n",
    "from scipy import stats\n",
    "from sklearn.preprocessing import MinMaxScaler\n",
    "from sklearn.preprocessing import minmax_scale\n",
    "import seaborn as sns\n",
    "from statsmodels.graphics.gofplots import qqplot\n",
    "from scipy.stats import shapiro\n",
    "import math\n",
    "from functools import reduce\n",
    "import plotly.express as px \n",
    "import matplotlib.pyplot as plt\n",
    "from ipywidgets import interact,FloatSlider,IntSlider\n",
    "from IPython.display import Javascript, display\n",
    "from ipywidgets import widgets\n",
    "\n",
    "warnings.filterwarnings('ignore') # suppress the warnings\n",
    "\n",
    "# defining a function for a button, which will run all consecutive cells\n",
    "def run_all(ev):\n",
    "    display(Javascript('IPython.notebook.execute_cell_range(IPython.notebook.get_selected_index()+1, IPython.notebook.ncells())'))\n"
   ]
  },
  {
   "cell_type": "code",
   "execution_count": 5,
   "metadata": {},
   "outputs": [],
   "source": [
    "pd.set_option(\"display.precision\", 2) # setting a precision\n",
    "pd.options.display.float_format = '{:,.3f}'.format"
   ]
  },
  {
   "cell_type": "markdown",
   "metadata": {},
   "source": [
    "### Geting the list of indicators\n",
    "This is done with the get_indicators function. You may query only the indicators for a specific source or topic as below. If you input no arguments, the get_indicator function will return the description of all the 16,000+ indicators."
   ]
  },
  {
   "cell_type": "code",
   "execution_count": 6,
   "metadata": {},
   "outputs": [],
   "source": [
    "# get the indicators for everything under the agriculture topic\n",
    "# topic and source id are from get_topics/get_sources - topic 1 is agriculture\n",
    "agriculture = wb.get_indicators(topic=1) \n",
    "ag_indicator = agriculture.reset_index()\n",
    "ag_indicator = ag_indicator[[\"id\", \"name\", \"sourceNote\", \"sourceOrganization\"]]"
   ]
  },
  {
   "cell_type": "markdown",
   "metadata": {},
   "source": [
    "## 2. Data import"
   ]
  },
  {
   "cell_type": "markdown",
   "metadata": {},
   "source": [
    "### a. Latitude and longitude data + distance to Ireland calculation"
   ]
  },
  {
   "cell_type": "code",
   "execution_count": 7,
   "metadata": {},
   "outputs": [
    {
     "name": "stdout",
     "output_type": "stream",
     "text": [
      "(218, 7)\n"
     ]
    }
   ],
   "source": [
    "# create a df with all country locations\n",
    "countries_loc = wb.get_countries()\n",
    "\n",
    "# filling in the missing latitudes and longitudes\n",
    "\n",
    "# https://latitudelongitude.org/gi/gibraltar/\n",
    "countries_loc['capitalCity'].loc['GIB'] = \"Gibraltar\";\n",
    "countries_loc['latitude'].loc['GIB'] = 36.14474;\n",
    "countries_loc['longitude'].loc['GIB'] = -5.35257;\n",
    "\n",
    "# https://latitudelongitude.org/tw/taipei/\n",
    "countries_loc['capitalCity'].loc['TWN'] = \"Taipei\";\n",
    "countries_loc['latitude'].loc['TWN'] = 25.04776;\n",
    "countries_loc['longitude'].loc['TWN'] = 121.53185;\n",
    "\n",
    "# https://latitudelongitude.org/cw/willemstad/\n",
    "countries_loc['latitude'].loc['CUW'] = 12.1084;\n",
    "countries_loc['longitude'].loc['CUW'] = -68.93354;\n",
    "\n",
    "# https://latitudelongitude.org/je/saint-helier/\n",
    "countries_loc['capitalCity'].loc['CHI'] = \"St. Helier\";\n",
    "countries_loc['latitude'].loc['CHI'] = 49.18804;\n",
    "countries_loc['longitude'].loc['CHI'] = -2.10491;\n",
    "\n",
    "# https://latitudelongitude.org/mf/marigot/\n",
    "countries_loc['latitude'].loc['MAF'] = 18.06667;\n",
    "countries_loc['longitude'].loc['MAF'] = -63.08333;\n",
    "\n",
    "# https://latitudelongitude.org/ps/gaza/\n",
    "countries_loc['capitalCity'].loc['PSE'] = \"Gaza\";\n",
    "countries_loc['latitude'].loc['PSE'] = 31.5;\n",
    "countries_loc['longitude'].loc['PSE'] = 34.46667;\n",
    "\n",
    "# https://latitudelongitude.org/sx/philipsburg/\n",
    "countries_loc['latitude'].loc['SXM'] = 18.026;\n",
    "countries_loc['longitude'].loc['SXM'] = -63.04582;\n",
    "\n",
    "countries_loc['capitalCity'].loc['HKG'] = \"Victoria\";\n",
    "countries_loc['capitalCity'].loc['ISR'] = \"Jerusalem\";\n",
    "countries_loc['capitalCity'].loc['MAC'] = \"Macau\";\n",
    "\n",
    "# create a df with the removed rows the drop all rows with na values\n",
    "nas = countries_loc[countries_loc['longitude'].isna()]\n",
    "countries_loc = countries_loc.dropna(axis = 0, how ='any')\n",
    "\n",
    "countries_loc.drop(axis=0, columns={\"adminregion\", \"lendingType\"}, inplace = True)\n",
    "print(countries_loc.shape)"
   ]
  },
  {
   "cell_type": "code",
   "execution_count": 8,
   "metadata": {},
   "outputs": [
    {
     "data": {
      "text/html": [
       "<div>\n",
       "<style scoped>\n",
       "    .dataframe tbody tr th:only-of-type {\n",
       "        vertical-align: middle;\n",
       "    }\n",
       "\n",
       "    .dataframe tbody tr th {\n",
       "        vertical-align: top;\n",
       "    }\n",
       "\n",
       "    .dataframe thead th {\n",
       "        text-align: right;\n",
       "    }\n",
       "</style>\n",
       "<table border=\"1\" class=\"dataframe\">\n",
       "  <thead>\n",
       "    <tr style=\"text-align: right;\">\n",
       "      <th></th>\n",
       "      <th>name</th>\n",
       "      <th>longitude</th>\n",
       "      <th>latitude</th>\n",
       "    </tr>\n",
       "    <tr>\n",
       "      <th>id</th>\n",
       "      <th></th>\n",
       "      <th></th>\n",
       "      <th></th>\n",
       "    </tr>\n",
       "  </thead>\n",
       "  <tbody>\n",
       "    <tr>\n",
       "      <th>ABW</th>\n",
       "      <td>Aruba</td>\n",
       "      <td>-70.017</td>\n",
       "      <td>12.517</td>\n",
       "    </tr>\n",
       "    <tr>\n",
       "      <th>AFG</th>\n",
       "      <td>Afghanistan</td>\n",
       "      <td>69.176</td>\n",
       "      <td>34.523</td>\n",
       "    </tr>\n",
       "    <tr>\n",
       "      <th>AGO</th>\n",
       "      <td>Angola</td>\n",
       "      <td>13.242</td>\n",
       "      <td>-8.812</td>\n",
       "    </tr>\n",
       "    <tr>\n",
       "      <th>ALB</th>\n",
       "      <td>Albania</td>\n",
       "      <td>19.817</td>\n",
       "      <td>41.332</td>\n",
       "    </tr>\n",
       "    <tr>\n",
       "      <th>AND</th>\n",
       "      <td>Andorra</td>\n",
       "      <td>1.522</td>\n",
       "      <td>42.508</td>\n",
       "    </tr>\n",
       "  </tbody>\n",
       "</table>\n",
       "</div>"
      ],
      "text/plain": [
       "            name  longitude  latitude\n",
       "id                                   \n",
       "ABW        Aruba    -70.017    12.517\n",
       "AFG  Afghanistan     69.176    34.523\n",
       "AGO       Angola     13.242    -8.812\n",
       "ALB      Albania     19.817    41.332\n",
       "AND      Andorra      1.522    42.508"
      ]
     },
     "execution_count": 8,
     "metadata": {},
     "output_type": "execute_result"
    }
   ],
   "source": [
    "# separate just the relevant data - latitude and longitude\n",
    "\n",
    "long_lat = countries_loc[[\"name\",\"longitude\",\"latitude\"]]\n",
    "long_lat.head()"
   ]
  },
  {
   "cell_type": "markdown",
   "metadata": {},
   "source": [
    "What we want to include in the scorecard is the distance from Ireland - we argue that the bigger the distance, the bigger problems with delivery"
   ]
  },
  {
   "cell_type": "markdown",
   "metadata": {},
   "source": [
    "In calculation of Distance to Ireland, we selected Haversine distance as the most appropriate measure, since it allows us to calculate distance on a curved surface, such as on the surface of the Earth, in comparison e.g. to Euclidean distance which works on flat surfaces. \n",
    "\n",
    "Adapted code from the following source: https://janakiev.com/blog/gps-points-distance-python/"
   ]
  },
  {
   "cell_type": "code",
   "execution_count": 9,
   "metadata": {},
   "outputs": [],
   "source": [
    "def haversine_to_IRL(lat1, lon1):\n",
    "    R = 6372800  # Radius of the earth   \n",
    "    \n",
    "    lon_IRL = long_lat.loc['IRL'][1]\n",
    "    lat_IRL = long_lat.loc['IRL'][2]\n",
    "\n",
    "    phi1, phi2 = math.radians(lat1), math.radians(lat_IRL) \n",
    "    dphi       = math.radians(lat_IRL - lat1)\n",
    "    dlambda    = math.radians(lon_IRL - lon1)\n",
    "    \n",
    "    a = math.sin(dphi/2)**2 + \\\n",
    "        math.cos(phi1)*math.cos(phi2)*math.sin(dlambda/2)**2\n",
    "    \n",
    "    return 2*R*math.atan2(math.sqrt(a), math.sqrt(1 - a))"
   ]
  },
  {
   "cell_type": "code",
   "execution_count": 10,
   "metadata": {},
   "outputs": [],
   "source": [
    "long_lat['DistanceToIE'] = long_lat.apply(lambda row: haversine_to_IRL(row['latitude'], row['longitude']), axis = 1)\n",
    "long_lat.rename(columns = {'name':'Country'}, inplace=True)\n",
    "long_lat = long_lat.drop(columns=[\"latitude\",\"longitude\"])"
   ]
  },
  {
   "cell_type": "markdown",
   "metadata": {},
   "source": [
    "We will later merge the distance data with the other data we pull from WorldBank"
   ]
  },
  {
   "cell_type": "markdown",
   "metadata": {},
   "source": [
    "### b. Pulling scorecard data from WorldBank"
   ]
  },
  {
   "cell_type": "markdown",
   "metadata": {},
   "source": [
    "We will pull the list of variables of interest from Worldbank and merge it into one dataframe"
   ]
  },
  {
   "cell_type": "code",
   "execution_count": 11,
   "metadata": {},
   "outputs": [],
   "source": [
    "wb_list = [\"TM.TAX.TCOM.WM.AR.ZS\",'IC.IMP.TMBC','NY.GDP.MKTP.KD.ZG','NY.GDP.PCAP.PP.CD','FP.CPI.TOTL.ZG','SL.UEM.TOTL.NE.ZS','SP.POP.TOTL', 'NV.SRV.TOTL.ZS','IC.IMP.CSBC.CD']"
   ]
  },
  {
   "cell_type": "code",
   "execution_count": 12,
   "metadata": {},
   "outputs": [],
   "source": [
    "x=0\n",
    "    \n",
    "for i in wb_list:\n",
    "    if x ==0:\n",
    "        wbdata = pd.DataFrame(wb.get_series(i)).reset_index()\n",
    "        wbdata.drop(columns = \"Series\", inplace=True) #The series name is repetitive after the merge\n",
    "        x = x + 1 # adding logic of first creating the dataframe, then joining the remaining columns\n",
    "    \n",
    "    else:\n",
    "        wbdata_join = pd.DataFrame(wb.get_series(i)).reset_index()\n",
    "        wbdata_join.drop(columns = \"Series\", inplace=True)\n",
    "        wbdata = wbdata.merge(wbdata_join,on=['Country',\"Year\"])"
   ]
  },
  {
   "cell_type": "code",
   "execution_count": 13,
   "metadata": {},
   "outputs": [
    {
     "data": {
      "text/plain": [
       "(556, 11)"
      ]
     },
     "execution_count": 13,
     "metadata": {},
     "output_type": "execute_result"
    }
   ],
   "source": [
    "wbdata = wbdata.dropna() \n",
    "wbdata.shape"
   ]
  },
  {
   "cell_type": "markdown",
   "metadata": {},
   "source": [
    "Data returned 556 rows and 11 columns after dropping NAs."
   ]
  },
  {
   "cell_type": "markdown",
   "metadata": {},
   "source": [
    "Since missing values in the WorldBank data indicate either governmental control or unstable political environment, we decided to drop these values rather than to fill it through other sources, as the dropped markets would not be a promising environment for export."
   ]
  },
  {
   "cell_type": "markdown",
   "metadata": {},
   "source": [
    "### c. Importing and cleaning the Risk data from Euler Hermes"
   ]
  },
  {
   "cell_type": "code",
   "execution_count": 14,
   "metadata": {},
   "outputs": [
    {
     "data": {
      "text/html": [
       "<div>\n",
       "<style scoped>\n",
       "    .dataframe tbody tr th:only-of-type {\n",
       "        vertical-align: middle;\n",
       "    }\n",
       "\n",
       "    .dataframe tbody tr th {\n",
       "        vertical-align: top;\n",
       "    }\n",
       "\n",
       "    .dataframe thead th {\n",
       "        text-align: right;\n",
       "    }\n",
       "</style>\n",
       "<table border=\"1\" class=\"dataframe\">\n",
       "  <thead>\n",
       "    <tr style=\"text-align: right;\">\n",
       "      <th></th>\n",
       "      <th>Country</th>\n",
       "      <th>MediumTerm Rating (Country)</th>\n",
       "      <th>Short-Term Rating (Country Risk Level)</th>\n",
       "    </tr>\n",
       "  </thead>\n",
       "  <tbody>\n",
       "    <tr>\n",
       "      <th>0</th>\n",
       "      <td>Afghanistan</td>\n",
       "      <td>D</td>\n",
       "      <td>4</td>\n",
       "    </tr>\n",
       "    <tr>\n",
       "      <th>1</th>\n",
       "      <td>Albania</td>\n",
       "      <td>D</td>\n",
       "      <td>3</td>\n",
       "    </tr>\n",
       "    <tr>\n",
       "      <th>2</th>\n",
       "      <td>Algeria</td>\n",
       "      <td>C</td>\n",
       "      <td>3</td>\n",
       "    </tr>\n",
       "    <tr>\n",
       "      <th>3</th>\n",
       "      <td>American Samoa</td>\n",
       "      <td>A</td>\n",
       "      <td>1</td>\n",
       "    </tr>\n",
       "    <tr>\n",
       "      <th>4</th>\n",
       "      <td>Andorra</td>\n",
       "      <td>AA</td>\n",
       "      <td>1</td>\n",
       "    </tr>\n",
       "  </tbody>\n",
       "</table>\n",
       "</div>"
      ],
      "text/plain": [
       "          Country MediumTerm Rating (Country)  \\\n",
       "0     Afghanistan                           D   \n",
       "1         Albania                           D   \n",
       "2         Algeria                           C   \n",
       "3  American Samoa                           A   \n",
       "4         Andorra                          AA   \n",
       "\n",
       "   Short-Term Rating (Country Risk Level)  \n",
       "0                                       4  \n",
       "1                                       3  \n",
       "2                                       3  \n",
       "3                                       1  \n",
       "4                                       1  "
      ]
     },
     "execution_count": 14,
     "metadata": {},
     "output_type": "execute_result"
    }
   ],
   "source": [
    "risk = pd.read_csv(\"Country_Risk_EH.csv\")\n",
    "risk.head()"
   ]
  },
  {
   "cell_type": "markdown",
   "metadata": {},
   "source": [
    "Medium risk data, which came from Euler Hermes, needed to be encoded, since they were in a categorical format, ranging from AA to E - the values were encoded into a numerical format ranging from 0 to 1. We also renamed the columns to not contain brackets or spaces for easier work."
   ]
  },
  {
   "cell_type": "code",
   "execution_count": 15,
   "metadata": {},
   "outputs": [],
   "source": [
    "risk = risk.rename(columns={'MediumTerm Rating (Country)':'MediumTermRisk',\n",
    "                            'Short-Term Rating (Country Risk Level)':'ShortTermRisk'})"
   ]
  },
  {
   "cell_type": "markdown",
   "metadata": {},
   "source": [
    "Medium term rating is coded into 6 categorical values - we will need to encode them into a numerical format"
   ]
  },
  {
   "cell_type": "code",
   "execution_count": 16,
   "metadata": {},
   "outputs": [],
   "source": [
    "encoding_medium_risk = {\"AA\":0,\n",
    "                        \"A\":0.2,\n",
    "                        \"BB\":0.4,\n",
    "                        \"B\":0.6,\n",
    "                        \"C\":0.8,\n",
    "                        \"c\":0.8,\n",
    "                        \"D\":1\n",
    "                       }"
   ]
  },
  {
   "cell_type": "code",
   "execution_count": 17,
   "metadata": {},
   "outputs": [
    {
     "data": {
      "text/html": [
       "<div>\n",
       "<style scoped>\n",
       "    .dataframe tbody tr th:only-of-type {\n",
       "        vertical-align: middle;\n",
       "    }\n",
       "\n",
       "    .dataframe tbody tr th {\n",
       "        vertical-align: top;\n",
       "    }\n",
       "\n",
       "    .dataframe thead th {\n",
       "        text-align: right;\n",
       "    }\n",
       "</style>\n",
       "<table border=\"1\" class=\"dataframe\">\n",
       "  <thead>\n",
       "    <tr style=\"text-align: right;\">\n",
       "      <th></th>\n",
       "      <th>Country</th>\n",
       "      <th>MediumTermRisk</th>\n",
       "      <th>ShortTermRisk</th>\n",
       "    </tr>\n",
       "  </thead>\n",
       "  <tbody>\n",
       "    <tr>\n",
       "      <th>0</th>\n",
       "      <td>Afghanistan</td>\n",
       "      <td>1.000</td>\n",
       "      <td>4</td>\n",
       "    </tr>\n",
       "    <tr>\n",
       "      <th>1</th>\n",
       "      <td>Albania</td>\n",
       "      <td>1.000</td>\n",
       "      <td>3</td>\n",
       "    </tr>\n",
       "    <tr>\n",
       "      <th>2</th>\n",
       "      <td>Algeria</td>\n",
       "      <td>0.800</td>\n",
       "      <td>3</td>\n",
       "    </tr>\n",
       "    <tr>\n",
       "      <th>3</th>\n",
       "      <td>American Samoa</td>\n",
       "      <td>0.200</td>\n",
       "      <td>1</td>\n",
       "    </tr>\n",
       "    <tr>\n",
       "      <th>4</th>\n",
       "      <td>Andorra</td>\n",
       "      <td>0.000</td>\n",
       "      <td>1</td>\n",
       "    </tr>\n",
       "  </tbody>\n",
       "</table>\n",
       "</div>"
      ],
      "text/plain": [
       "          Country  MediumTermRisk  ShortTermRisk\n",
       "0     Afghanistan           1.000              4\n",
       "1         Albania           1.000              3\n",
       "2         Algeria           0.800              3\n",
       "3  American Samoa           0.200              1\n",
       "4         Andorra           0.000              1"
      ]
     },
     "execution_count": 17,
     "metadata": {},
     "output_type": "execute_result"
    }
   ],
   "source": [
    "risk['MediumTermRisk'] = risk['MediumTermRisk'].replace(encoding_medium_risk)\n",
    "risk.head()"
   ]
  },
  {
   "cell_type": "markdown",
   "metadata": {},
   "source": [
    "Since data is coming from a different source, first we compare the naming of the countries with the WorldBank data and process renaming to get maximum of matches between data"
   ]
  },
  {
   "cell_type": "code",
   "execution_count": 18,
   "metadata": {},
   "outputs": [],
   "source": [
    "wbcountry = wbdata['Country'].unique().tolist()\n",
    "riskcountry = risk['Country'].unique().tolist()\n",
    "#set(wbcountry) - set(riskcountry) #prints difference between dataframes\n",
    "#note: code now hidden for visualisation purposes, but it was run when cleaning the data"
   ]
  },
  {
   "cell_type": "markdown",
   "metadata": {},
   "source": [
    "We notice that some countreis contain commas and might be unusual when interpreting. We will drop the \"The\" and simplify the naming."
   ]
  },
  {
   "cell_type": "code",
   "execution_count": 19,
   "metadata": {},
   "outputs": [],
   "source": [
    "# wbdata['Country'].unique() - code now hidden for visualisation purposes, but it was run when cleaning the data"
   ]
  },
  {
   "cell_type": "code",
   "execution_count": 20,
   "metadata": {},
   "outputs": [],
   "source": [
    "wb_dict = {\n",
    "    'Bahamas, The':'Bahamas',\n",
    "    'Egypt, Arab Rep.':'Egypt',\n",
    "    'Gambia, The':'Gambia',\n",
    "    'Iran, Islamic Rep.':'Iran',\n",
    "    'Hong Kong SAR, China':'Hong Kong SAR',\n",
    "    'Korea, Rep.':'South Korea',\n",
    "    'Lao PDR':'Laos',\n",
    "    'Timor-Leste':'Timor Leste'\n",
    "}"
   ]
  },
  {
   "cell_type": "code",
   "execution_count": 21,
   "metadata": {},
   "outputs": [],
   "source": [
    "wbdata['Country'] = wbdata['Country'].replace(wb_dict) #data renamed as per dictionary abive"
   ]
  },
  {
   "cell_type": "code",
   "execution_count": 22,
   "metadata": {},
   "outputs": [],
   "source": [
    "#long_lat data shares the same structure, so we recode it as per the same dictionary\n",
    "long_lat['Country'] = long_lat['Country'].replace(wb_dict)"
   ]
  },
  {
   "cell_type": "markdown",
   "metadata": {},
   "source": [
    "We now print all values in the risk dataframe to compare naming with the wb_data dataframe differences and unify the naming where possible"
   ]
  },
  {
   "cell_type": "code",
   "execution_count": 23,
   "metadata": {},
   "outputs": [],
   "source": [
    "#risk['Country'].unique() - code now hidden for visualisation purposes, but it was run when cleaning the data"
   ]
  },
  {
   "cell_type": "code",
   "execution_count": 24,
   "metadata": {},
   "outputs": [],
   "source": [
    "risk_dict = {\n",
    "    'Ban ladesh':'Bangladesh', #we notice some errors in words - missing letter\n",
    "    'Egypt ':'Egypt', #space after the word will be deleted\n",
    "    'Honk Kong SAR':'Hong Kong SAR',\n",
    "    'Myanmar (Burma)':'Myanmar',\n",
    "    \"Cöte d'Ivoire\":\"Cote d'Ivoire\", #unusual symbol will be deleted\n",
    "    'Cape Verde Islands':'Cabo Verde',\n",
    "    'Guinea (Rep Of)':'Guinea'\n",
    "}"
   ]
  },
  {
   "cell_type": "code",
   "execution_count": 25,
   "metadata": {},
   "outputs": [],
   "source": [
    "risk['Country'] = risk['Country'].replace(risk_dict)"
   ]
  },
  {
   "cell_type": "code",
   "execution_count": 26,
   "metadata": {},
   "outputs": [
    {
     "data": {
      "text/plain": [
       "{'European Union', 'West Bank and Gaza'}"
      ]
     },
     "execution_count": 26,
     "metadata": {},
     "output_type": "execute_result"
    }
   ],
   "source": [
    "wbcountry = wbdata['Country'].unique().tolist()\n",
    "riskcountry = risk['Country'].unique().tolist()\n",
    "set(wbcountry) - set(riskcountry)"
   ]
  },
  {
   "cell_type": "markdown",
   "metadata": {},
   "source": [
    "In the end, we will drop European Union (aggregate) data and just one extra location, which seems to be a good result. "
   ]
  },
  {
   "cell_type": "markdown",
   "metadata": {},
   "source": [
    "### d. Bovine consumption data"
   ]
  },
  {
   "cell_type": "markdown",
   "metadata": {},
   "source": [
    "Load the dataset. We notice very complex naming, which is why the columns are renamed to simpler terms. "
   ]
  },
  {
   "cell_type": "code",
   "execution_count": 27,
   "metadata": {},
   "outputs": [
    {
     "data": {
      "text/html": [
       "<div>\n",
       "<style scoped>\n",
       "    .dataframe tbody tr th:only-of-type {\n",
       "        vertical-align: middle;\n",
       "    }\n",
       "\n",
       "    .dataframe tbody tr th {\n",
       "        vertical-align: top;\n",
       "    }\n",
       "\n",
       "    .dataframe thead th {\n",
       "        text-align: right;\n",
       "    }\n",
       "</style>\n",
       "<table border=\"1\" class=\"dataframe\">\n",
       "  <thead>\n",
       "    <tr style=\"text-align: right;\">\n",
       "      <th></th>\n",
       "      <th>Country</th>\n",
       "      <th>Code</th>\n",
       "      <th>Year</th>\n",
       "      <th>Poultry</th>\n",
       "      <th>Bovine</th>\n",
       "      <th>Mutton_Goat</th>\n",
       "      <th>Pigmeat</th>\n",
       "      <th>Other</th>\n",
       "      <th>Fish</th>\n",
       "    </tr>\n",
       "  </thead>\n",
       "  <tbody>\n",
       "    <tr>\n",
       "      <th>0</th>\n",
       "      <td>Afghanistan</td>\n",
       "      <td>AFG</td>\n",
       "      <td>2014</td>\n",
       "      <td>1.980</td>\n",
       "      <td>3.910</td>\n",
       "      <td>4.380</td>\n",
       "      <td>0.010</td>\n",
       "      <td>0.330</td>\n",
       "      <td>0.190</td>\n",
       "    </tr>\n",
       "    <tr>\n",
       "      <th>1</th>\n",
       "      <td>Afghanistan</td>\n",
       "      <td>AFG</td>\n",
       "      <td>2015</td>\n",
       "      <td>1.910</td>\n",
       "      <td>3.460</td>\n",
       "      <td>4.290</td>\n",
       "      <td>0.010</td>\n",
       "      <td>0.320</td>\n",
       "      <td>0.210</td>\n",
       "    </tr>\n",
       "    <tr>\n",
       "      <th>2</th>\n",
       "      <td>Afghanistan</td>\n",
       "      <td>AFG</td>\n",
       "      <td>2016</td>\n",
       "      <td>1.670</td>\n",
       "      <td>2.960</td>\n",
       "      <td>4.110</td>\n",
       "      <td>0.000</td>\n",
       "      <td>0.310</td>\n",
       "      <td>0.230</td>\n",
       "    </tr>\n",
       "    <tr>\n",
       "      <th>3</th>\n",
       "      <td>Afghanistan</td>\n",
       "      <td>AFG</td>\n",
       "      <td>2017</td>\n",
       "      <td>1.530</td>\n",
       "      <td>2.610</td>\n",
       "      <td>4.150</td>\n",
       "      <td>0.000</td>\n",
       "      <td>0.300</td>\n",
       "      <td>0.250</td>\n",
       "    </tr>\n",
       "    <tr>\n",
       "      <th>4</th>\n",
       "      <td>Albania</td>\n",
       "      <td>ALB</td>\n",
       "      <td>2014</td>\n",
       "      <td>13.790</td>\n",
       "      <td>18.210</td>\n",
       "      <td>11.900</td>\n",
       "      <td>7.420</td>\n",
       "      <td>0.000</td>\n",
       "      <td>5.340</td>\n",
       "    </tr>\n",
       "  </tbody>\n",
       "</table>\n",
       "</div>"
      ],
      "text/plain": [
       "       Country Code  Year  Poultry  Bovine  Mutton_Goat  Pigmeat  Other  Fish\n",
       "0  Afghanistan  AFG  2014    1.980   3.910        4.380    0.010  0.330 0.190\n",
       "1  Afghanistan  AFG  2015    1.910   3.460        4.290    0.010  0.320 0.210\n",
       "2  Afghanistan  AFG  2016    1.670   2.960        4.110    0.000  0.310 0.230\n",
       "3  Afghanistan  AFG  2017    1.530   2.610        4.150    0.000  0.300 0.250\n",
       "4      Albania  ALB  2014   13.790  18.210       11.900    7.420  0.000 5.340"
      ]
     },
     "execution_count": 27,
     "metadata": {},
     "output_type": "execute_result"
    }
   ],
   "source": [
    "meat_cons = pd.read_csv(\"meat-consumption-per-capita-type.csv\")\n",
    "meat_cons = meat_cons.rename(columns = {\"Entity\":\"Country\",\n",
    "                                        \"New Food Balances - Poultry Meat - 2734 - Food supply quantity (kg/capita/yr) - 645 - kg\": \"Poultry\",\n",
    "                                       \"New Food Balances - Bovine Meat - 2731 - Food supply quantity (kg/capita/yr) - 645 - kg\":\"Bovine\",\n",
    "                                        \"New Food Balances - Pigmeat - 2733 - Food supply quantity (kg/capita/yr) - 645 - kg\":\"Pigmeat\",\n",
    "                                       \"New Food Balances - Mutton & Goat Meat - 2732 - Food supply quantity (kg/capita/yr) - 645 - kg\":\"Mutton_Goat\",\n",
    "                                       \"New Food Balances - Meat, Other - 2735 - Food supply quantity (kg/capita/yr) - 645 - kg\":\"Other\",\n",
    "                                       \"New Food Balances - Fish, Seafood - 2960 - Food supply quantity (kg/capita/yr) - 645 - kg\":\"Fish\"})\n",
    "meat_cons.head()"
   ]
  },
  {
   "cell_type": "markdown",
   "metadata": {},
   "source": [
    "We also create additional metric - total meat being sum of all other types of meat vs. bovine, and we also calculate the share of bovine out of all meat consumed. "
   ]
  },
  {
   "cell_type": "code",
   "execution_count": 28,
   "metadata": {},
   "outputs": [],
   "source": [
    "meat_cons[\"Total_Meat\"] = meat_cons.iloc[:,-7:-1].sum(axis=1)\n",
    "meat_cons[\"Bovine_Share\"] = (meat_cons[\"Bovine\"]/meat_cons[\"Total_Meat\"])\n",
    "meat_cons = meat_cons.drop(columns=[\"Bovine\",\"Poultry\",\"Mutton_Goat\",\"Fish\",\"Pigmeat\",\"Other\",\"Code\"])"
   ]
  },
  {
   "cell_type": "markdown",
   "metadata": {},
   "source": [
    "We conduct the same check for country naming as before and follow the same process"
   ]
  },
  {
   "cell_type": "code",
   "execution_count": 29,
   "metadata": {},
   "outputs": [],
   "source": [
    "wbcountry = wbdata['Country'].unique().tolist()\n",
    "meat_cons_country = meat_cons['Country'].unique().tolist()\n",
    "# set(wbcountry) - set(meat_cons_country) - code now hidden for visualisation purposes, but it was run when cleaning the data"
   ]
  },
  {
   "cell_type": "code",
   "execution_count": 30,
   "metadata": {},
   "outputs": [],
   "source": [
    "# meat_cons_country - code now hidden for visualisation purposes, but it was run when cleaning the data"
   ]
  },
  {
   "cell_type": "code",
   "execution_count": 31,
   "metadata": {},
   "outputs": [],
   "source": [
    "meat_cons_dict = {\n",
    "    'Cape Verde':'Cabo Verde',\n",
    "    'Brunei':'Brunei Darussalam',\n",
    "    'Czechia':'Czech Republic',\n",
    "    'Hong Kong':'Hong Kong SAR',\n",
    "    'Kyrgyzstan':'Kyrgyz Republic',\n",
    "    'Russia':'Russian Federation',\n",
    "    'Slovakia':'Slovak Republic',\n",
    "    'Saint Lucia':'St. Lucia',\n",
    "    'Timor':'Timor Leste' \n",
    "}"
   ]
  },
  {
   "cell_type": "code",
   "execution_count": 32,
   "metadata": {},
   "outputs": [],
   "source": [
    "meat_cons['Country'] = meat_cons['Country'].replace(meat_cons_dict)"
   ]
  },
  {
   "cell_type": "markdown",
   "metadata": {},
   "source": [
    "### e. Dairy consumption (per person per year)"
   ]
  },
  {
   "cell_type": "markdown",
   "metadata": {},
   "source": [
    "Dairy consumption data is treated the same way as meat consumption - renaming columns, checking naming and unifying the naming. "
   ]
  },
  {
   "cell_type": "code",
   "execution_count": 33,
   "metadata": {},
   "outputs": [
    {
     "data": {
      "text/html": [
       "<div>\n",
       "<style scoped>\n",
       "    .dataframe tbody tr th:only-of-type {\n",
       "        vertical-align: middle;\n",
       "    }\n",
       "\n",
       "    .dataframe tbody tr th {\n",
       "        vertical-align: top;\n",
       "    }\n",
       "\n",
       "    .dataframe thead th {\n",
       "        text-align: right;\n",
       "    }\n",
       "</style>\n",
       "<table border=\"1\" class=\"dataframe\">\n",
       "  <thead>\n",
       "    <tr style=\"text-align: right;\">\n",
       "      <th></th>\n",
       "      <th>Country</th>\n",
       "      <th>Code</th>\n",
       "      <th>Year</th>\n",
       "      <th>Milk</th>\n",
       "    </tr>\n",
       "  </thead>\n",
       "  <tbody>\n",
       "    <tr>\n",
       "      <th>0</th>\n",
       "      <td>Afghanistan</td>\n",
       "      <td>AFG</td>\n",
       "      <td>1961</td>\n",
       "      <td>59.300</td>\n",
       "    </tr>\n",
       "    <tr>\n",
       "      <th>1</th>\n",
       "      <td>Afghanistan</td>\n",
       "      <td>AFG</td>\n",
       "      <td>1962</td>\n",
       "      <td>58.570</td>\n",
       "    </tr>\n",
       "    <tr>\n",
       "      <th>2</th>\n",
       "      <td>Afghanistan</td>\n",
       "      <td>AFG</td>\n",
       "      <td>1963</td>\n",
       "      <td>63.870</td>\n",
       "    </tr>\n",
       "    <tr>\n",
       "      <th>3</th>\n",
       "      <td>Afghanistan</td>\n",
       "      <td>AFG</td>\n",
       "      <td>1964</td>\n",
       "      <td>64.050</td>\n",
       "    </tr>\n",
       "    <tr>\n",
       "      <th>4</th>\n",
       "      <td>Afghanistan</td>\n",
       "      <td>AFG</td>\n",
       "      <td>1965</td>\n",
       "      <td>68.620</td>\n",
       "    </tr>\n",
       "  </tbody>\n",
       "</table>\n",
       "</div>"
      ],
      "text/plain": [
       "       Country Code  Year   Milk\n",
       "0  Afghanistan  AFG  1961 59.300\n",
       "1  Afghanistan  AFG  1962 58.570\n",
       "2  Afghanistan  AFG  1963 63.870\n",
       "3  Afghanistan  AFG  1964 64.050\n",
       "4  Afghanistan  AFG  1965 68.620"
      ]
     },
     "execution_count": 33,
     "metadata": {},
     "output_type": "execute_result"
    }
   ],
   "source": [
    "dairy_cons = pd.read_csv(\"milk-consumption-per-capita.csv\")\n",
    "dairy_cons = dairy_cons.rename(columns = {\"Milk - Excluding Butter - Food supply quantity (kg/capita/yr) (FAO, 2020)\":\"Milk\",\n",
    "                               \"Entity\":\"Country\"}\n",
    "                              )\n",
    "dairy_cons.head()"
   ]
  },
  {
   "cell_type": "code",
   "execution_count": 34,
   "metadata": {},
   "outputs": [],
   "source": [
    "wbcountry = wbdata['Country'].unique().tolist()\n",
    "dairy_cons_country = dairy_cons['Country'].unique().tolist()\n",
    "# set(wbcountry) - set(dairy_cons_country) - code now hidden for visualisation purposes, but it was run when cleaning the data"
   ]
  },
  {
   "cell_type": "markdown",
   "metadata": {},
   "source": [
    "As per our check, it seems like the naming is the same for dairy and meat datasets, so we will apply the same dictionary from working with meat for renaming countries and cleaning the data. "
   ]
  },
  {
   "cell_type": "code",
   "execution_count": 35,
   "metadata": {},
   "outputs": [],
   "source": [
    "dairy_cons['Country'] = dairy_cons['Country'].replace(meat_cons_dict)"
   ]
  },
  {
   "cell_type": "markdown",
   "metadata": {},
   "source": [
    "### f. Agriculture land"
   ]
  },
  {
   "cell_type": "markdown",
   "metadata": {},
   "source": [
    "We include the agriculture land data and drop the unnecessary columns, then conduct the same check as before on the previous dataframes"
   ]
  },
  {
   "cell_type": "code",
   "execution_count": 36,
   "metadata": {},
   "outputs": [
    {
     "data": {
      "text/html": [
       "<div>\n",
       "<style scoped>\n",
       "    .dataframe tbody tr th:only-of-type {\n",
       "        vertical-align: middle;\n",
       "    }\n",
       "\n",
       "    .dataframe tbody tr th {\n",
       "        vertical-align: top;\n",
       "    }\n",
       "\n",
       "    .dataframe thead th {\n",
       "        text-align: right;\n",
       "    }\n",
       "</style>\n",
       "<table border=\"1\" class=\"dataframe\">\n",
       "  <thead>\n",
       "    <tr style=\"text-align: right;\">\n",
       "      <th></th>\n",
       "      <th>Unnamed: 0</th>\n",
       "      <th>id</th>\n",
       "      <th>iso2Code</th>\n",
       "      <th>Country</th>\n",
       "      <th>longitude</th>\n",
       "      <th>latitude</th>\n",
       "      <th>Year</th>\n",
       "      <th>Agr_land_sq_km</th>\n",
       "      <th>Agr_land_per</th>\n",
       "    </tr>\n",
       "  </thead>\n",
       "  <tbody>\n",
       "    <tr>\n",
       "      <th>0</th>\n",
       "      <td>1</td>\n",
       "      <td>AFG</td>\n",
       "      <td>AF</td>\n",
       "      <td>Afghanistan</td>\n",
       "      <td>69.176</td>\n",
       "      <td>34.523</td>\n",
       "      <td>1961</td>\n",
       "      <td>377,000.000</td>\n",
       "      <td>57.746</td>\n",
       "    </tr>\n",
       "    <tr>\n",
       "      <th>1</th>\n",
       "      <td>2</td>\n",
       "      <td>AFG</td>\n",
       "      <td>AF</td>\n",
       "      <td>Afghanistan</td>\n",
       "      <td>69.176</td>\n",
       "      <td>34.523</td>\n",
       "      <td>1962</td>\n",
       "      <td>377,600.000</td>\n",
       "      <td>57.838</td>\n",
       "    </tr>\n",
       "    <tr>\n",
       "      <th>2</th>\n",
       "      <td>3</td>\n",
       "      <td>AFG</td>\n",
       "      <td>AF</td>\n",
       "      <td>Afghanistan</td>\n",
       "      <td>69.176</td>\n",
       "      <td>34.523</td>\n",
       "      <td>1963</td>\n",
       "      <td>378,100.000</td>\n",
       "      <td>57.914</td>\n",
       "    </tr>\n",
       "    <tr>\n",
       "      <th>3</th>\n",
       "      <td>4</td>\n",
       "      <td>AFG</td>\n",
       "      <td>AF</td>\n",
       "      <td>Afghanistan</td>\n",
       "      <td>69.176</td>\n",
       "      <td>34.523</td>\n",
       "      <td>1964</td>\n",
       "      <td>378,730.000</td>\n",
       "      <td>58.011</td>\n",
       "    </tr>\n",
       "    <tr>\n",
       "      <th>4</th>\n",
       "      <td>5</td>\n",
       "      <td>AFG</td>\n",
       "      <td>AF</td>\n",
       "      <td>Afghanistan</td>\n",
       "      <td>69.176</td>\n",
       "      <td>34.523</td>\n",
       "      <td>1965</td>\n",
       "      <td>378,750.000</td>\n",
       "      <td>58.014</td>\n",
       "    </tr>\n",
       "  </tbody>\n",
       "</table>\n",
       "</div>"
      ],
      "text/plain": [
       "   Unnamed: 0   id iso2Code      Country  longitude  latitude  Year  \\\n",
       "0           1  AFG       AF  Afghanistan     69.176    34.523  1961   \n",
       "1           2  AFG       AF  Afghanistan     69.176    34.523  1962   \n",
       "2           3  AFG       AF  Afghanistan     69.176    34.523  1963   \n",
       "3           4  AFG       AF  Afghanistan     69.176    34.523  1964   \n",
       "4           5  AFG       AF  Afghanistan     69.176    34.523  1965   \n",
       "\n",
       "   Agr_land_sq_km  Agr_land_per  \n",
       "0     377,000.000        57.746  \n",
       "1     377,600.000        57.838  \n",
       "2     378,100.000        57.914  \n",
       "3     378,730.000        58.011  \n",
       "4     378,750.000        58.014  "
      ]
     },
     "execution_count": 36,
     "metadata": {},
     "output_type": "execute_result"
    }
   ],
   "source": [
    "agLand = pd.read_csv(\"agrLand_country_df.csv\")\n",
    "agLand.head()"
   ]
  },
  {
   "cell_type": "code",
   "execution_count": 37,
   "metadata": {},
   "outputs": [],
   "source": [
    "agLand['Country'] = agLand['Country'].replace(wb_dict)\n",
    "agLand = agLand.drop(columns=['Unnamed: 0','iso2Code','longitude','latitude','Agr_land_sq_km'])"
   ]
  },
  {
   "cell_type": "code",
   "execution_count": 38,
   "metadata": {},
   "outputs": [
    {
     "data": {
      "text/plain": [
       "{'European Union'}"
      ]
     },
     "execution_count": 38,
     "metadata": {},
     "output_type": "execute_result"
    }
   ],
   "source": [
    "wbcountry = wbdata['Country'].unique().tolist()\n",
    "agLand_country = agLand['Country'].unique().tolist()\n",
    "set(wbcountry) - set(agLand_country)"
   ]
  },
  {
   "cell_type": "code",
   "execution_count": 39,
   "metadata": {},
   "outputs": [],
   "source": [
    "# agLand['Country'].unique() - code now hidden for visualisation purposes, but it was run when cleaning the data"
   ]
  },
  {
   "cell_type": "markdown",
   "metadata": {},
   "source": [
    "### g. Partner preference"
   ]
  },
  {
   "cell_type": "code",
   "execution_count": 40,
   "metadata": {},
   "outputs": [],
   "source": [
    "partners = pd.read_csv(\"Export_Partner_Preference.csv\")"
   ]
  },
  {
   "cell_type": "markdown",
   "metadata": {},
   "source": [
    "Unnecessary columns \"explanation\" will be dropped, and the countries will be checked for naming. "
   ]
  },
  {
   "cell_type": "code",
   "execution_count": 41,
   "metadata": {},
   "outputs": [],
   "source": [
    "partners.drop(columns={'Explanation'}, inplace=True)\n",
    "partners = partners.rename(columns={'Rank':'PartnerRank'})"
   ]
  },
  {
   "cell_type": "code",
   "execution_count": 42,
   "metadata": {},
   "outputs": [],
   "source": [
    "# compare datasets vs. each other on country naming as above\n",
    "wbcountry = wbdata['Country'].unique().tolist()\n",
    "partners_country = partners['Country'].unique().tolist()\n",
    "# set(wbcountry) - set(partners_country) - code now hidden for visualisation purposes, but it was run when cleaning the data"
   ]
  },
  {
   "cell_type": "markdown",
   "metadata": {},
   "source": [
    "It seems like some of the naming issues are the same as we observed in the meat dataframe. We also add some other changes in a separate dictionary. "
   ]
  },
  {
   "cell_type": "code",
   "execution_count": 43,
   "metadata": {},
   "outputs": [],
   "source": [
    "partners['Country'] = partners['Country'].replace(meat_cons_dict)"
   ]
  },
  {
   "cell_type": "code",
   "execution_count": 44,
   "metadata": {},
   "outputs": [],
   "source": [
    "partner_dict = {\n",
    "    'Algeria ':'Algeria',\n",
    "    \"Cote dIvoire\":\"Cote d'Ivoire\",\n",
    "    'Guinea-Bissau':'Guinea'\n",
    "}"
   ]
  },
  {
   "cell_type": "code",
   "execution_count": 45,
   "metadata": {},
   "outputs": [],
   "source": [
    "partners['Country'] = partners['Country'].replace(partner_dict)"
   ]
  },
  {
   "cell_type": "markdown",
   "metadata": {},
   "source": [
    "Recoding partner values to match the interval 0-1"
   ]
  },
  {
   "cell_type": "code",
   "execution_count": 46,
   "metadata": {},
   "outputs": [],
   "source": [
    "encoding_partner_pref = {1:0.0,\n",
    "                        2:0.2,\n",
    "                        3:0.4,\n",
    "                        4:0.6,\n",
    "                        5:1.0,\n",
    "                       }"
   ]
  },
  {
   "cell_type": "code",
   "execution_count": 47,
   "metadata": {},
   "outputs": [],
   "source": [
    "partners['PartnerRank'] = partners['PartnerRank'].replace(encoding_partner_pref)"
   ]
  },
  {
   "cell_type": "markdown",
   "metadata": {},
   "source": [
    "**\n",
    "\n",
    "## 3. Merging datasets"
   ]
  },
  {
   "cell_type": "code",
   "execution_count": 48,
   "metadata": {},
   "outputs": [],
   "source": [
    "wbdata['Year'] = wbdata['Year'].astype(int)"
   ]
  },
  {
   "cell_type": "markdown",
   "metadata": {},
   "source": [
    "Below we can choose the year of the analysis - you can use the slider to make your choice. \n",
    "    \n",
    "<span style='background-color:yellow'><b>To note:</b> To use this slider, use the Jupyter Notebook and click the button below"
   ]
  },
  {
   "cell_type": "code",
   "execution_count": 49,
   "metadata": {
    "scrolled": true
   },
   "outputs": [
    {
     "data": {
      "application/vnd.jupyter.widget-view+json": {
       "model_id": "cb2f4139064b4ac0ad78eb24470ea17f",
       "version_major": 2,
       "version_minor": 0
      },
      "text/plain": [
       "IntSlider(value=2017, max=2018, min=2014)"
      ]
     },
     "metadata": {},
     "output_type": "display_data"
    }
   ],
   "source": [
    "year = widgets.IntSlider(value=2017,min=2014,max=2018)\n",
    "display(year)"
   ]
  },
  {
   "cell_type": "code",
   "execution_count": 50,
   "metadata": {},
   "outputs": [
    {
     "data": {
      "application/vnd.jupyter.widget-view+json": {
       "model_id": "5511e3586c9344dda50a1267ab8e4f7a",
       "version_major": 2,
       "version_minor": 0
      },
      "text/plain": [
       "Button(description='Update the year', style=ButtonStyle())"
      ]
     },
     "metadata": {},
     "output_type": "display_data"
    }
   ],
   "source": [
    "# button will update all cells below and makes it easy for a non-technical audience to work with the code\n",
    "button1 = widgets.Button(description=\"Update the year\")\n",
    "display(button1)\n",
    "button1.on_click(run_all)\n"
   ]
  },
  {
   "cell_type": "code",
   "execution_count": 51,
   "metadata": {},
   "outputs": [
    {
     "data": {
      "text/html": [
       "<div>\n",
       "<style scoped>\n",
       "    .dataframe tbody tr th:only-of-type {\n",
       "        vertical-align: middle;\n",
       "    }\n",
       "\n",
       "    .dataframe tbody tr th {\n",
       "        vertical-align: top;\n",
       "    }\n",
       "\n",
       "    .dataframe thead th {\n",
       "        text-align: right;\n",
       "    }\n",
       "</style>\n",
       "<table border=\"1\" class=\"dataframe\">\n",
       "  <thead>\n",
       "    <tr style=\"text-align: right;\">\n",
       "      <th></th>\n",
       "      <th>Country</th>\n",
       "      <th>Year</th>\n",
       "      <th>TM.TAX.TCOM.WM.AR.ZS</th>\n",
       "      <th>IC.IMP.TMBC</th>\n",
       "      <th>NY.GDP.MKTP.KD.ZG</th>\n",
       "      <th>NY.GDP.PCAP.PP.CD</th>\n",
       "      <th>FP.CPI.TOTL.ZG</th>\n",
       "      <th>SL.UEM.TOTL.NE.ZS</th>\n",
       "      <th>SP.POP.TOTL</th>\n",
       "      <th>NV.SRV.TOTL.ZS</th>\n",
       "      <th>IC.IMP.CSBC.CD</th>\n",
       "    </tr>\n",
       "  </thead>\n",
       "  <tbody>\n",
       "    <tr>\n",
       "      <th>850</th>\n",
       "      <td>European Union</td>\n",
       "      <td>2017</td>\n",
       "      <td>1.840</td>\n",
       "      <td>1.620</td>\n",
       "      <td>2.814</td>\n",
       "      <td>42,676.629</td>\n",
       "      <td>1.429</td>\n",
       "      <td>8.140</td>\n",
       "      <td>446,186,344.000</td>\n",
       "      <td>65.140</td>\n",
       "      <td>30.296</td>\n",
       "    </tr>\n",
       "    <tr>\n",
       "      <th>3107</th>\n",
       "      <td>Albania</td>\n",
       "      <td>2017</td>\n",
       "      <td>1.260</td>\n",
       "      <td>10.000</td>\n",
       "      <td>3.802</td>\n",
       "      <td>12,770.971</td>\n",
       "      <td>2.061</td>\n",
       "      <td>13.620</td>\n",
       "      <td>2,873,457.000</td>\n",
       "      <td>47.970</td>\n",
       "      <td>77.300</td>\n",
       "    </tr>\n",
       "    <tr>\n",
       "      <th>3168</th>\n",
       "      <td>Algeria</td>\n",
       "      <td>2017</td>\n",
       "      <td>9.790</td>\n",
       "      <td>327.390</td>\n",
       "      <td>1.300</td>\n",
       "      <td>11,737.401</td>\n",
       "      <td>5.591</td>\n",
       "      <td>13.570</td>\n",
       "      <td>41,389,174.000</td>\n",
       "      <td>47.635</td>\n",
       "      <td>408.778</td>\n",
       "    </tr>\n",
       "    <tr>\n",
       "      <th>3534</th>\n",
       "      <td>Armenia</td>\n",
       "      <td>2017</td>\n",
       "      <td>1.650</td>\n",
       "      <td>2.538</td>\n",
       "      <td>7.500</td>\n",
       "      <td>12,115.139</td>\n",
       "      <td>0.970</td>\n",
       "      <td>17.700</td>\n",
       "      <td>2,944,789.000</td>\n",
       "      <td>50.765</td>\n",
       "      <td>0.000</td>\n",
       "    </tr>\n",
       "    <tr>\n",
       "      <th>3656</th>\n",
       "      <td>Australia</td>\n",
       "      <td>2017</td>\n",
       "      <td>0.620</td>\n",
       "      <td>39.000</td>\n",
       "      <td>2.296</td>\n",
       "      <td>48,398.550</td>\n",
       "      <td>1.949</td>\n",
       "      <td>5.590</td>\n",
       "      <td>24,601,860.000</td>\n",
       "      <td>67.015</td>\n",
       "      <td>525.000</td>\n",
       "    </tr>\n",
       "  </tbody>\n",
       "</table>\n",
       "</div>"
      ],
      "text/plain": [
       "             Country  Year  TM.TAX.TCOM.WM.AR.ZS  IC.IMP.TMBC  \\\n",
       "850   European Union  2017                 1.840        1.620   \n",
       "3107         Albania  2017                 1.260       10.000   \n",
       "3168         Algeria  2017                 9.790      327.390   \n",
       "3534         Armenia  2017                 1.650        2.538   \n",
       "3656       Australia  2017                 0.620       39.000   \n",
       "\n",
       "      NY.GDP.MKTP.KD.ZG  NY.GDP.PCAP.PP.CD  FP.CPI.TOTL.ZG  SL.UEM.TOTL.NE.ZS  \\\n",
       "850               2.814         42,676.629           1.429              8.140   \n",
       "3107              3.802         12,770.971           2.061             13.620   \n",
       "3168              1.300         11,737.401           5.591             13.570   \n",
       "3534              7.500         12,115.139           0.970             17.700   \n",
       "3656              2.296         48,398.550           1.949              5.590   \n",
       "\n",
       "         SP.POP.TOTL  NV.SRV.TOTL.ZS  IC.IMP.CSBC.CD  \n",
       "850  446,186,344.000          65.140          30.296  \n",
       "3107   2,873,457.000          47.970          77.300  \n",
       "3168  41,389,174.000          47.635         408.778  \n",
       "3534   2,944,789.000          50.765           0.000  \n",
       "3656  24,601,860.000          67.015         525.000  "
      ]
     },
     "execution_count": 51,
     "metadata": {},
     "output_type": "execute_result"
    }
   ],
   "source": [
    "filter_year = year.value #links the widget with a value for filtering\n",
    "wbdata_select = wbdata[wbdata['Year']==filter_year] # we filter the data related to the slider above\n",
    "wbdata_select.head()"
   ]
  },
  {
   "cell_type": "code",
   "execution_count": 52,
   "metadata": {},
   "outputs": [],
   "source": [
    "# we first merge the data that are time-bound (will be merged based on country and year)\n",
    "\n",
    "df_final = pd.merge(wbdata_select,agLand,on=['Country',\"Year\"], how='right')\n",
    "df_final = df_final.dropna()"
   ]
  },
  {
   "cell_type": "code",
   "execution_count": 53,
   "metadata": {},
   "outputs": [],
   "source": [
    "dfs = [risk, df_final, long_lat] #list of dataframes that are static"
   ]
  },
  {
   "cell_type": "code",
   "execution_count": 54,
   "metadata": {},
   "outputs": [],
   "source": [
    "# we will now merge the dataframe with the static frames, like distance to Ireland..\n",
    "df_final = reduce(lambda  left,right: pd.merge(left,right,on=['Country'], how='right'), dfs)\n",
    "df_final = df_final.dropna()\n",
    "#df_final['Country'].unique() #checking for the remaining countries\n",
    "#code now hidden for visualisation purposes, but it was run when cleaning the data"
   ]
  },
  {
   "cell_type": "markdown",
   "metadata": {},
   "source": [
    "Depending on our focus, we may not want to include meat or dairy, which can be changed in the if boolean values below"
   ]
  },
  {
   "cell_type": "code",
   "execution_count": 55,
   "metadata": {},
   "outputs": [],
   "source": [
    "include_meat = True"
   ]
  },
  {
   "cell_type": "code",
   "execution_count": 56,
   "metadata": {},
   "outputs": [],
   "source": [
    "include_dairy = True"
   ]
  },
  {
   "cell_type": "code",
   "execution_count": 57,
   "metadata": {},
   "outputs": [],
   "source": [
    "if include_meat == True:\n",
    "    df_final = pd.merge(df_final,meat_cons,on=['Country',\"Year\"], how='inner')\n",
    "    df_final = df_final.dropna()\n",
    "    df_final.shape\n",
    "else:\n",
    "    print(\"Merging with meat data skipped\")"
   ]
  },
  {
   "cell_type": "code",
   "execution_count": 58,
   "metadata": {},
   "outputs": [],
   "source": [
    "if include_dairy == True:\n",
    "    df_final = pd.merge(df_final,dairy_cons,on=['Country',\"Year\"], how='inner')\n",
    "    df_final = df_final.dropna()\n",
    "    df_final.shape\n",
    "else:\n",
    "    print(\"Merging with dairy data skipped\")"
   ]
  },
  {
   "cell_type": "code",
   "execution_count": 59,
   "metadata": {},
   "outputs": [
    {
     "data": {
      "text/plain": [
       "(84, 20)"
      ]
     },
     "execution_count": 59,
     "metadata": {},
     "output_type": "execute_result"
    }
   ],
   "source": [
    "df_final.shape # checking final shape of the data"
   ]
  },
  {
   "cell_type": "markdown",
   "metadata": {},
   "source": [
    "Finally, we then add the information about the preferred partner. Missing values can be filled with 0, which represent \"no information\""
   ]
  },
  {
   "cell_type": "code",
   "execution_count": 60,
   "metadata": {},
   "outputs": [
    {
     "data": {
      "text/plain": [
       "(84, 21)"
      ]
     },
     "execution_count": 60,
     "metadata": {},
     "output_type": "execute_result"
    }
   ],
   "source": [
    "df_final = pd.merge(df_final,partners,on=['Country'], how='left')\n",
    "df_final = df_final.fillna(1) #missing values can be filled with 1, which represent \"no information\"\n",
    "df_final.shape"
   ]
  },
  {
   "cell_type": "markdown",
   "metadata": {},
   "source": [
    "For better understanding, we will rename the columns to better show what do the World Bank data signify"
   ]
  },
  {
   "cell_type": "code",
   "execution_count": 61,
   "metadata": {},
   "outputs": [],
   "source": [
    "df_final.rename(columns={'TM.TAX.TCOM.WM.AR.ZS':'Tariff','IC.IMP.TMBC':'TimeToImport','NY.GDP.MKTP.KD.ZG':'GDPGrowth','NY.GDP.PCAP.PP.CD':'GDPppp','FP.CPI.TOTL.ZG':'Inflation','SL.UEM.TOTL.NE.ZS':'Unemployment','SP.POP.TOTL':'Population', 'Distance to Ireland':'DistanceToIE','NV.SRV.TOTL.ZS':'ServicesFromGDP','IC.IMP.CSBC.CD':'CostToImportBorder'},inplace=True)"
   ]
  },
  {
   "cell_type": "markdown",
   "metadata": {},
   "source": [
    "## 4. Normalising data in the scorecard"
   ]
  },
  {
   "cell_type": "markdown",
   "metadata": {},
   "source": [
    "#### Interactive way of checking histograms and also shapiro-wilk test"
   ]
  },
  {
   "cell_type": "markdown",
   "metadata": {},
   "source": [
    "Visual analysis of the histogram suggests normal distribution of data, thus w e used the Shapiro-Wilk test test to test normality.\n",
    "\n",
    "H0: Data is normal H1: Data is not normal"
   ]
  },
  {
   "cell_type": "markdown",
   "metadata": {},
   "source": [
    "If the P value is > 0.05, we cannot reject the null and we assume tha data is normal"
   ]
  },
  {
   "cell_type": "code",
   "execution_count": 62,
   "metadata": {},
   "outputs": [],
   "source": [
    "def shapiro_print(p):\n",
    "    if p > 0.05:\n",
    "        print(\"---------\\np > 0.05, so we cannot reject the null hypothesis - data is normally distributed\")\n",
    "    else:\n",
    "        print(\"---------\\np < 0.05, so we reject the null hypothesis - data is NOT normally distributed\")\n"
   ]
  },
  {
   "cell_type": "code",
   "execution_count": 63,
   "metadata": {},
   "outputs": [
    {
     "data": {
      "application/vnd.jupyter.widget-view+json": {
       "model_id": "7eb122b402bb4050bf129ae0e7b39000",
       "version_major": 2,
       "version_minor": 0
      },
      "text/plain": [
       "interactive(children=(Dropdown(description='column', options=('MediumTermRisk', 'ShortTermRisk', 'Year', 'Tari…"
      ]
     },
     "metadata": {},
     "output_type": "display_data"
    }
   ],
   "source": [
    "@interact #interactive element lets us investigate different columns\n",
    "\n",
    "def stats_normality(column=list(df_final.select_dtypes(include=['float64']).columns)): #filter just float columns\n",
    "    sns.distplot(df_final[column]);\n",
    "    qqplot(df_final[column], line='s')\n",
    "    shapiro = stats.shapiro(df_final[column])\n",
    "    print(shapiro)\n",
    "    shapiro_print(shapiro.pvalue)"
   ]
  },
  {
   "cell_type": "markdown",
   "metadata": {},
   "source": [
    "We first create a copy of the dataframe, in which we will replace the values by normalised ones"
   ]
  },
  {
   "cell_type": "code",
   "execution_count": 64,
   "metadata": {},
   "outputs": [],
   "source": [
    "df_scores = df_final"
   ]
  },
  {
   "cell_type": "markdown",
   "metadata": {},
   "source": [
    "Then we also remove some outliers by lowering or increasing the max values\n",
    "\n",
    "For inflation: Internationally acceptable inflation is ca. 2%, so all values below 2% will be given the max score. Then we will use min-max normalisation, inverted. "
   ]
  },
  {
   "cell_type": "code",
   "execution_count": 65,
   "metadata": {},
   "outputs": [],
   "source": [
    "df_scores.loc[df_scores['Inflation'] < 2, 'Inflation'] = 2\n"
   ]
  },
  {
   "cell_type": "markdown",
   "metadata": {},
   "source": [
    "For unemployment: Internationally acceptable normal unemployment is ca. 5%, so all values below 5% will be given the max score. Then we will use min-max normalisation, inverted."
   ]
  },
  {
   "cell_type": "code",
   "execution_count": 66,
   "metadata": {},
   "outputs": [],
   "source": [
    "df_scores.loc[df_scores['Unemployment'] < 5, 'Unemployment'] = 5"
   ]
  },
  {
   "cell_type": "markdown",
   "metadata": {},
   "source": [
    "For population size: Due to very strong outliers, we will cut down the range"
   ]
  },
  {
   "cell_type": "code",
   "execution_count": 67,
   "metadata": {},
   "outputs": [],
   "source": [
    "df_scores.loc[df_scores['Population'] > 400000000, 'Population'] = 400000000"
   ]
  },
  {
   "cell_type": "markdown",
   "metadata": {},
   "source": [
    "After aplying the logic of which values should be max in our scorecard, we divide our data into these that should be just normalised and these that should be normalised and inverted"
   ]
  },
  {
   "cell_type": "code",
   "execution_count": 68,
   "metadata": {},
   "outputs": [],
   "source": [
    "normal_minmax = ['Bovine_Share','Total_Meat','Milk','ServicesFromGDP','GDPGrowth','GDPppp','Population','PartnerRank']\n",
    "inverted_minmax = ['Agr_land_per','CostToImportBorder','ShortTermRisk','MediumTermRisk','Tariff','TimeToImport','Inflation','Unemployment','DistanceToIE']"
   ]
  },
  {
   "cell_type": "code",
   "execution_count": 69,
   "metadata": {},
   "outputs": [],
   "source": [
    "for col in normal_minmax:\n",
    "    df_scores[col] = minmax_scale(df_scores[[col]])\n",
    "\n",
    "for col in inverted_minmax:\n",
    "    df_scores[col] = abs(minmax_scale(df_scores[[col]])-1)"
   ]
  },
  {
   "cell_type": "code",
   "execution_count": 70,
   "metadata": {
    "scrolled": false
   },
   "outputs": [
    {
     "data": {
      "image/png": "[encoded data removed]",
      "text/plain": [
       "<Figure size 720x720 with 1 Axes>"
      ]
     },
     "metadata": {
      "needs_background": "light"
     },
     "output_type": "display_data"
    }
   ],
   "source": [
    "plt.figure(figsize=(10,10))\n",
    "sns.boxplot(data=df_scores.loc[:, df_scores.columns !='Year'], orient=\"h\");"
   ]
  },
  {
   "cell_type": "markdown",
   "metadata": {},
   "source": [
    "## 5. Scoring and weighing in Jupyter"
   ]
  },
  {
   "cell_type": "markdown",
   "metadata": {},
   "source": [
    "To reflect different weighing approaches, you can pick one of four pre-defined approaches. Then, the user is given a chance to redefine weight to account for individual preferences or judgement. \n",
    "\n",
    "<span style='background-color:yellow'><b>To note:</b> To use this dropdown, use the Jupyter Notebook and click the button below. <br>You can also scroll down and visualise different approaches in the interactive map. "
   ]
  },
  {
   "cell_type": "code",
   "execution_count": 71,
   "metadata": {},
   "outputs": [
    {
     "data": {
      "application/vnd.jupyter.widget-view+json": {
       "model_id": "05f1c326fe364210b7ed6c0abaaca714",
       "version_major": 2,
       "version_minor": 0
      },
      "text/plain": [
       "Dropdown(description='Scoring:', options=(('Traditional approach', 'tradition'), ('Partner approach', 'partner…"
      ]
     },
     "metadata": {},
     "output_type": "display_data"
    }
   ],
   "source": [
    "approach = widgets.Dropdown(\n",
    "    options=[('Traditional approach', 'tradition'), ('Partner approach', 'partner'), ('Cost-minimising approach', 'cost'), ('Balanced approach','balance')],\n",
    "    value='tradition',\n",
    "    description='Scoring:'        \n",
    ")\n",
    "display(approach)"
   ]
  },
  {
   "cell_type": "code",
   "execution_count": 72,
   "metadata": {},
   "outputs": [
    {
     "data": {
      "application/vnd.jupyter.widget-view+json": {
       "model_id": "dbbe00361b584f66ab8417b7872f4af9",
       "version_major": 2,
       "version_minor": 0
      },
      "text/plain": [
       "Button(description='Apply scoring approach', style=ButtonStyle())"
      ]
     },
     "metadata": {},
     "output_type": "display_data"
    }
   ],
   "source": [
    "#runs all cells below on click\n",
    "button = widgets.Button(description=\"Apply scoring approach\")\n",
    "display(button)\n",
    "button.on_click(run_all)"
   ]
  },
  {
   "cell_type": "markdown",
   "metadata": {},
   "source": [
    "The code predefines the weights associated with this approach to the interactive sliders. This make it easier to use the weights and adjust them slightly, rather than start from zero. "
   ]
  },
  {
   "cell_type": "code",
   "execution_count": 73,
   "metadata": {},
   "outputs": [
    {
     "name": "stdout",
     "output_type": "stream",
     "text": [
      "-------\n",
      "Chosen approach:  tradition \n",
      "\n",
      "-------\n",
      "MACROECONOMIC FACTORS\n",
      "Total weight:  36 \n",
      "\n",
      "-------\n",
      "LIABILITY OF FOREIGNNESS\n",
      "Total weight:  28 \n",
      "a. Weight of cultural / habitual factors:  6 \n",
      "b. Weight of political / business factors:  22 \n",
      "\n",
      "-------\n",
      "COST OF DOING BUSINESS ABROAD\n",
      "Total weight:  26\n"
     ]
    }
   ],
   "source": [
    "if approach.value == \"tradition\":\n",
    "    CostToImportBorder_W = 2\n",
    "    DistanceToIE_W = 10\n",
    "    Tariff_W = 7\n",
    "    TimeToImport_W = 7\n",
    "    Bovine_Share_W = 2\n",
    "    Total_Meat_W = 2\n",
    "    Milk_W = 2\n",
    "    ShortTermRisk_W = 10\n",
    "    MediumTermRisk_W = 2\n",
    "    PartnersRank_W = 10\n",
    "    Agr_land_per_W = 2\n",
    "    GDPGrowth_W = 10\n",
    "    GDPppp_W = 6\n",
    "    Inflation_W = 5\n",
    "    Population_W = 2\n",
    "    ServicesFromGDP_W = 6\n",
    "    Unemployment_W = 5\n",
    "\n",
    "elif approach.value == \"cost\":\n",
    "    CostToImportBorder_W = 8\n",
    "    DistanceToIE_W = 10\n",
    "    Tariff_W = 10\n",
    "    TimeToImport_W = 4\n",
    "    Bovine_Share_W = 2\n",
    "    Total_Meat_W = 2\n",
    "    Milk_W = 2\n",
    "    ShortTermRisk_W = 5\n",
    "    MediumTermRisk_W = 8\n",
    "    PartnersRank_W = 7\n",
    "    Agr_land_per_W = 2\n",
    "    GDPGrowth_W = 8\n",
    "    GDPppp_W = 2\n",
    "    Inflation_W = 2\n",
    "    Population_W = 10\n",
    "    ServicesFromGDP_W = 6\n",
    "    Unemployment_W = 2\n",
    "\n",
    "elif approach.value == \"partner\":\n",
    "    CostToImportBorder_W = 2\n",
    "    DistanceToIE_W = 10\n",
    "    Tariff_W = 2\n",
    "    TimeToImport_W = 3\n",
    "    Bovine_Share_W = 8\n",
    "    Total_Meat_W = 8\n",
    "    Milk_W = 8\n",
    "    ShortTermRisk_W = 4\n",
    "    MediumTermRisk_W = 10\n",
    "    PartnersRank_W = 4\n",
    "    Agr_land_per_W = 6\n",
    "    GDPGrowth_W = 3\n",
    "    GDPppp_W = 5\n",
    "    Inflation_W = 3\n",
    "    Population_W = 3\n",
    "    ServicesFromGDP_W = 8\n",
    "    Unemployment_W = 3\n",
    "\n",
    "elif approach.value == \"balance\":\n",
    "    CostToImportBorder_W = 7.5\n",
    "    DistanceToIE_W = 7.5\n",
    "    Tariff_W = 7.5\n",
    "    TimeToImport_W = 7.5\n",
    "    Bovine_Share_W = 5\n",
    "    Total_Meat_W = 5\n",
    "    Milk_W = 5\n",
    "    ShortTermRisk_W = 5\n",
    "    MediumTermRisk_W = 5\n",
    "    PartnersRank_W = 5\n",
    "    Agr_land_per_W = 4.285\n",
    "    GDPGrowth_W = 4.285\n",
    "    GDPppp_W = 4.285\n",
    "    Inflation_W = 4.285\n",
    "    Population_W = 4.285\n",
    "    ServicesFromGDP_W = 4.285\n",
    "    Unemployment_W = 4.285\n",
    "    \n",
    "else:\n",
    "    print(\"Use valid option\")\n",
    "\n",
    "# for easy visibility, we sum weights of the different categories of features and print it below for the audience\n",
    "\n",
    "MacroTotal = GDPGrowth_W + GDPppp_W + Inflation_W + Unemployment_W + Population_W + ServicesFromGDP_W + Agr_land_per_W\n",
    "CultureTotal = Bovine_Share_W + Total_Meat_W + Milk_W \n",
    "PoliticsTotal = ShortTermRisk_W + MediumTermRisk_W + PartnersRank_W\n",
    "ForeignTotal = CultureTotal + PoliticsTotal\n",
    "CostTotal = Tariff_W + DistanceToIE_W + TimeToImport_W + CostToImportBorder_W\n",
    "\n",
    "####\n",
    "\n",
    "print(\"-------\\nChosen approach: \",approach.value,\"\\n\\n-------\\nMACROECONOMIC FACTORS\\nTotal weight: \",MacroTotal,\"\\n\\n-------\\nLIABILITY OF FOREIGNNESS\\nTotal weight: \",ForeignTotal,\"\\na. Weight of cultural / habitual factors: \",CultureTotal,\"\\nb. Weight of political / business factors: \",PoliticsTotal, \"\\n\\n-------\\nCOST OF DOING BUSINESS ABROAD\\nTotal weight: \",CostTotal)\n",
    "      "
   ]
  },
  {
   "cell_type": "markdown",
   "metadata": {},
   "source": [
    "We also give the user of this dashboard a choice to apply manual weights to the scoring, with the help of the predefined approaches. This is a voluntary step, which makes the scorecard more applicable to all audiences. \n",
    "\n",
    "<span style='background-color:yellow'><b>To note:</b> To use these sliders, use the Jupyter Notebook and click the button below (after selecting manual weights)"
   ]
  },
  {
   "cell_type": "code",
   "execution_count": 74,
   "metadata": {},
   "outputs": [
    {
     "name": "stdout",
     "output_type": "stream",
     "text": [
      "---------------------------------------------\n",
      "Cost of Doing Business Abroad\n"
     ]
    },
    {
     "data": {
      "application/vnd.jupyter.widget-view+json": {
       "model_id": "d584cb36d6a545709ba7aeddfc563dab",
       "version_major": 2,
       "version_minor": 0
      },
      "text/plain": [
       "IntSlider(value=2, description='Cost to Import', max=10, style=SliderStyle(description_width='initial'))"
      ]
     },
     "metadata": {},
     "output_type": "display_data"
    },
    {
     "data": {
      "application/vnd.jupyter.widget-view+json": {
       "model_id": "1cb94ee488ec4293839ad00d10537e9c",
       "version_major": 2,
       "version_minor": 0
      },
      "text/plain": [
       "IntSlider(value=10, description='Distance to Ireland', max=10, style=SliderStyle(description_width='initial'))"
      ]
     },
     "metadata": {},
     "output_type": "display_data"
    },
    {
     "data": {
      "application/vnd.jupyter.widget-view+json": {
       "model_id": "faf5110ea3684d4982182f2e46c0747a",
       "version_major": 2,
       "version_minor": 0
      },
      "text/plain": [
       "IntSlider(value=7, description='Tariff', max=10, style=SliderStyle(description_width='initial'))"
      ]
     },
     "metadata": {},
     "output_type": "display_data"
    },
    {
     "data": {
      "application/vnd.jupyter.widget-view+json": {
       "model_id": "ec837b48ebc140e78e7b8cc8b43e5d21",
       "version_major": 2,
       "version_minor": 0
      },
      "text/plain": [
       "IntSlider(value=7, description='Time to Import', max=10, style=SliderStyle(description_width='initial'))"
      ]
     },
     "metadata": {},
     "output_type": "display_data"
    },
    {
     "name": "stdout",
     "output_type": "stream",
     "text": [
      "---------------------------------------------\n",
      "Liability of Foreigness: Cultural / Habitual\n"
     ]
    },
    {
     "data": {
      "application/vnd.jupyter.widget-view+json": {
       "model_id": "d55a4d4437c44217aa51cc48fdc06070",
       "version_major": 2,
       "version_minor": 0
      },
      "text/plain": [
       "IntSlider(value=2, description='Bovine Share', max=10, style=SliderStyle(description_width='initial'))"
      ]
     },
     "metadata": {},
     "output_type": "display_data"
    },
    {
     "data": {
      "application/vnd.jupyter.widget-view+json": {
       "model_id": "2d4d9c4e5d484c109fce4cb12d42e76f",
       "version_major": 2,
       "version_minor": 0
      },
      "text/plain": [
       "IntSlider(value=2, description='Meat Consumption', max=10, style=SliderStyle(description_width='initial'))"
      ]
     },
     "metadata": {},
     "output_type": "display_data"
    },
    {
     "data": {
      "application/vnd.jupyter.widget-view+json": {
       "model_id": "5ac08bb3d50e48ec9d924985571eed65",
       "version_major": 2,
       "version_minor": 0
      },
      "text/plain": [
       "IntSlider(value=2, description='Milk Consumption', max=10, style=SliderStyle(description_width='initial'))"
      ]
     },
     "metadata": {},
     "output_type": "display_data"
    },
    {
     "name": "stdout",
     "output_type": "stream",
     "text": [
      "---------------------------------------------\n",
      "Liability of Foreigness: Political / Business\n"
     ]
    },
    {
     "data": {
      "application/vnd.jupyter.widget-view+json": {
       "model_id": "c2a8bde1958a4a2081317d4a04ea832f",
       "version_major": 2,
       "version_minor": 0
      },
      "text/plain": [
       "IntSlider(value=10, description='Short Term Risk', max=10, style=SliderStyle(description_width='initial'))"
      ]
     },
     "metadata": {},
     "output_type": "display_data"
    },
    {
     "data": {
      "application/vnd.jupyter.widget-view+json": {
       "model_id": "52b9370a54c741638cf9b3d10f45369e",
       "version_major": 2,
       "version_minor": 0
      },
      "text/plain": [
       "IntSlider(value=2, description='Medium Term Risk', max=10, style=SliderStyle(description_width='initial'))"
      ]
     },
     "metadata": {},
     "output_type": "display_data"
    },
    {
     "data": {
      "application/vnd.jupyter.widget-view+json": {
       "model_id": "7aae4f6c7dfb4bcfa9bddcd7e12a4aa7",
       "version_major": 2,
       "version_minor": 0
      },
      "text/plain": [
       "IntSlider(value=10, description='Partner Rank', max=10, style=SliderStyle(description_width='initial'))"
      ]
     },
     "metadata": {},
     "output_type": "display_data"
    },
    {
     "name": "stdout",
     "output_type": "stream",
     "text": [
      "---------------------------------------------\n",
      "Macroeconomic Factors\n"
     ]
    },
    {
     "data": {
      "application/vnd.jupyter.widget-view+json": {
       "model_id": "ef77434022aa495b9869966c30371e66",
       "version_major": 2,
       "version_minor": 0
      },
      "text/plain": [
       "IntSlider(value=2, description='Agricultural land', max=10, style=SliderStyle(description_width='initial'))"
      ]
     },
     "metadata": {},
     "output_type": "display_data"
    },
    {
     "data": {
      "application/vnd.jupyter.widget-view+json": {
       "model_id": "0687678987654be598de9493ccd58cf7",
       "version_major": 2,
       "version_minor": 0
      },
      "text/plain": [
       "IntSlider(value=10, description='GDP Growth', max=10, style=SliderStyle(description_width='initial'))"
      ]
     },
     "metadata": {},
     "output_type": "display_data"
    },
    {
     "data": {
      "application/vnd.jupyter.widget-view+json": {
       "model_id": "2c4cc1bc61414c69ae0c51af94473431",
       "version_major": 2,
       "version_minor": 0
      },
      "text/plain": [
       "IntSlider(value=6, description='Purchasing Power Parity', max=10, style=SliderStyle(description_width='initial…"
      ]
     },
     "metadata": {},
     "output_type": "display_data"
    },
    {
     "data": {
      "application/vnd.jupyter.widget-view+json": {
       "model_id": "0aead9b6b2674a958c19115ca70e0ca7",
       "version_major": 2,
       "version_minor": 0
      },
      "text/plain": [
       "IntSlider(value=5, description='Inflation', max=10, style=SliderStyle(description_width='initial'))"
      ]
     },
     "metadata": {},
     "output_type": "display_data"
    },
    {
     "data": {
      "application/vnd.jupyter.widget-view+json": {
       "model_id": "3bcef3a32e284d08ac12bc69a5ea74e3",
       "version_major": 2,
       "version_minor": 0
      },
      "text/plain": [
       "IntSlider(value=2, description='Population', max=10, style=SliderStyle(description_width='initial'))"
      ]
     },
     "metadata": {},
     "output_type": "display_data"
    },
    {
     "data": {
      "application/vnd.jupyter.widget-view+json": {
       "model_id": "c6fe569d2d65436ca7639eb46b284a95",
       "version_major": 2,
       "version_minor": 0
      },
      "text/plain": [
       "IntSlider(value=6, description='Inflation', max=10, style=SliderStyle(description_width='initial'))"
      ]
     },
     "metadata": {},
     "output_type": "display_data"
    },
    {
     "data": {
      "application/vnd.jupyter.widget-view+json": {
       "model_id": "900748aaf2974b17a570e745395b2465",
       "version_major": 2,
       "version_minor": 0
      },
      "text/plain": [
       "IntSlider(value=5, description='Population', max=10, style=SliderStyle(description_width='initial'))"
      ]
     },
     "metadata": {},
     "output_type": "display_data"
    }
   ],
   "source": [
    "style = {'description_width': 'initial'} # description of the sliders is too long, prolonging as per documentation\n",
    "\n",
    "# below we assign the value of the widget to a variable, which we use for the multiplication and weighing\n",
    "CostToImportBorder = widgets.IntSlider(min=0, max=10, value=CostToImportBorder_W, description=\"Cost to Import\", style=style)\n",
    "DistanceToIE = widgets.IntSlider(min=0, max=10, value=DistanceToIE_W , description=\"Distance to Ireland\", style=style)\n",
    "Tariff = widgets.IntSlider(min=0, max=10, value=Tariff_W, description=\"Tariff\", style=style)\n",
    "TimeToImport = widgets.IntSlider(min=0, max=10, value=TimeToImport_W, description=\"Time to Import\", style=style)\n",
    "Bovine_Share = widgets.IntSlider(min=0, max=10, value=Bovine_Share_W, description=\"Bovine Share\", style=style)\n",
    "Total_Meat = widgets.IntSlider(min=0, max=10, value=Total_Meat_W, description=\"Meat Consumption\", style=style)\n",
    "Milk = widgets.IntSlider(min=0, max=10, value=Milk_W, description=\"Milk Consumption\", style=style)\n",
    "ShortTermRisk = widgets.IntSlider(min=0, max=10, value=ShortTermRisk_W, description=\"Short Term Risk\", style=style)\n",
    "MediumTermRisk = widgets.IntSlider(min=0, max=10, value=MediumTermRisk_W, description=\"Medium Term Risk\", style=style)\n",
    "PartnersRank = widgets.IntSlider(min=0, max=10, value=PartnersRank_W, description=\"Partner Rank\", style=style)\n",
    "Agr_land_per = widgets.IntSlider(min=0, max=10, value=Agr_land_per_W, description=\"Agricultural land\", style=style)\n",
    "GDPGrowth = widgets.IntSlider(min=0, max=10, value=GDPGrowth_W, description=\"GDP Growth\", style=style)\n",
    "GDPppp = widgets.IntSlider(min=0, max=10, value=GDPppp_W, description=\"Purchasing Power Parity\", style=style)\n",
    "Inflation = widgets.IntSlider(min=0, max=10, value=Inflation_W, description=\"Inflation\", style=style)\n",
    "Population = widgets.IntSlider(min=0, max=10, value=Population_W, description=\"Population\", style=style)\n",
    "ServicesFromGDP = widgets.IntSlider(min=0, max=10, value=ServicesFromGDP_W, description=\"Inflation\", style=style)\n",
    "Unemployment = widgets.IntSlider(min=0, max=10, value=Unemployment_W, description=\"Population\", style=style)\n",
    "\n",
    "# display the sliders by category, while using the predefined weights\n",
    "print(\"---------------------------------------------\\nCost of Doing Business Abroad\")\n",
    "display(CostToImportBorder,DistanceToIE, Tariff, TimeToImport)\n",
    "\n",
    "print(\"---------------------------------------------\\nLiability of Foreigness: Cultural / Habitual\")\n",
    "display(Bovine_Share, Total_Meat, Milk)\n",
    "\n",
    "print(\"---------------------------------------------\\nLiability of Foreigness: Political / Business\")\n",
    "display(ShortTermRisk,MediumTermRisk, PartnersRank)\n",
    "\n",
    "print(\"---------------------------------------------\\nMacroeconomic Factors\")\n",
    "display(Agr_land_per, GDPGrowth, GDPppp, Inflation, Population, ServicesFromGDP, Unemployment)"
   ]
  },
  {
   "cell_type": "code",
   "execution_count": 75,
   "metadata": {},
   "outputs": [
    {
     "data": {
      "application/vnd.jupyter.widget-view+json": {
       "model_id": "a7506a597d4d488c8f2f84fb2f22eb57",
       "version_major": 2,
       "version_minor": 0
      },
      "text/plain": [
       "Button(description='Apply manual weights', style=ButtonStyle())"
      ]
     },
     "metadata": {},
     "output_type": "display_data"
    }
   ],
   "source": [
    "# user can run the code below and get a recounted table as per their selections\n",
    "button2 = widgets.Button(description=\"Apply manual weights\")\n",
    "display(button2)\n",
    "button2.on_click(run_all)"
   ]
  },
  {
   "cell_type": "markdown",
   "metadata": {},
   "source": [
    "Then we calculate the final scores (weight * score) into the df_scores dataframe and also group categories together"
   ]
  },
  {
   "cell_type": "code",
   "execution_count": 76,
   "metadata": {},
   "outputs": [],
   "source": [
    "df_scores['Macroeconomic Score'] = df_scores['GDPGrowth']*GDPGrowth.value + df_scores['GDPppp']*GDPppp.value + df_scores['Inflation']*Inflation.value + df_scores['Unemployment']*Unemployment.value + df_scores['Population']*Population.value + df_scores['Agr_land_per'] * Agr_land_per.value + df_scores['ServicesFromGDP'] * ServicesFromGDP.value\n",
    "\n",
    "df_scores['Liability of Foreignness: Cultural Score'] = 0\n",
    "\n",
    "if include_meat == True: \n",
    "    df_scores['Liability of Foreignness: Cultural Score'] = df_scores['Liability of Foreignness: Cultural Score'] + df_scores['Bovine_Share'] * Bovine_Share.value + df_scores['Total_Meat'] * Total_Meat.value\n",
    "if include_dairy == True:\n",
    "    df_scores['Liability of Foreignness: Cultural Score'] = df_scores['Liability of Foreignness: Cultural Score'] + df_scores['Milk'] * Milk.value\n",
    "\n",
    "df_scores['Liability of Foreignness: Political Score'] = df_scores['MediumTermRisk']* MediumTermRisk.value + df_scores['ShortTermRisk'] * ShortTermRisk.value + df_scores['PartnerRank'] * PartnersRank.value\n",
    "\n",
    "df_scores['Liability of Foreignness'] = df_scores['Liability of Foreignness: Cultural Score']  + df_scores['Liability of Foreignness: Political Score']\n",
    "\n",
    "df_scores['Cost of Doing Business Abroad Score'] = df_scores['Tariff']*Tariff.value + df_scores['TimeToImport']*TimeToImport.value + df_scores['DistanceToIE']*DistanceToIE.value + df_scores['CostToImportBorder'] * CostToImportBorder.value\n",
    "\n",
    "# since export score is a sum of all categories, summing them all together\n",
    "df_scores['Export Score'] = df_scores['Liability of Foreignness'] + df_scores['Macroeconomic Score'] + df_scores['Cost of Doing Business Abroad Score']\n",
    "# rounding for nicer numbers\n",
    "df_scores['Export Score'] = round(df_scores['Export Score'], 2)\n"
   ]
  },
  {
   "cell_type": "code",
   "execution_count": 77,
   "metadata": {},
   "outputs": [],
   "source": [
    "# the code below is for replicability - if the user changes values above or wants to come back to histogram\n",
    "df_final_scores = df_scores[['Country','id','Macroeconomic Score','Liability of Foreignness', 'Liability of Foreignness: Cultural Score', 'Liability of Foreignness: Political Score','Cost of Doing Business Abroad Score','Export Score']].copy()\n",
    "df_scores = df_scores.drop(columns=['Macroeconomic Score','Liability of Foreignness', 'Liability of Foreignness: Cultural Score', 'Liability of Foreignness: Political Score','Cost of Doing Business Abroad Score','Export Score'])\n"
   ]
  },
  {
   "cell_type": "markdown",
   "metadata": {},
   "source": [
    "\n",
    "### Scores based on personalized scales - in a tabular form, executable in Jupyter"
   ]
  },
  {
   "cell_type": "markdown",
   "metadata": {},
   "source": [
    "The weights below reflect the sliders the user customised and executed above, which gives the highest personalisation benefit. "
   ]
  },
  {
   "cell_type": "markdown",
   "metadata": {},
   "source": [
    "We also add filtering and sorting option to the final dataframe listing the scores (total and per category). Code inspired by: https://www.wrighters.io/use-ipywidgets-with-jupyter-notebooks/"
   ]
  },
  {
   "cell_type": "code",
   "execution_count": 78,
   "metadata": {},
   "outputs": [],
   "source": [
    "columns_dropdown = widgets.Dropdown(\n",
    "    options=df_final_scores.columns,\n",
    "    value=df_final_scores.columns[6],\n",
    "    description='Sort by column:',\n",
    "    style=style)\n",
    "\n",
    "top_x = widgets.IntSlider(\n",
    "    value=10,\n",
    "    min=0,\n",
    "    max=len(df_final),\n",
    "    description='Show x results:',\n",
    "    style=style)\n",
    "\n",
    "sort_checkbox = widgets.Checkbox(\n",
    "    value=False,\n",
    "    description='Check if ascending order',\n",
    "    style=style)"
   ]
  },
  {
   "cell_type": "markdown",
   "metadata": {},
   "source": [
    "#### Final scores as below, the higher the score the better:"
   ]
  },
  {
   "cell_type": "code",
   "execution_count": 79,
   "metadata": {},
   "outputs": [
    {
     "data": {
      "application/vnd.jupyter.widget-view+json": {
       "model_id": "45d80121210b4170a2a52c4d0a21d3d6",
       "version_major": 2,
       "version_minor": 0
      },
      "text/plain": [
       "interactive(children=(Dropdown(description='Sort by column:', index=6, options=('Country', 'id', 'Macroeconomi…"
      ]
     },
     "metadata": {},
     "output_type": "display_data"
    }
   ],
   "source": [
    "from ipywidgets import interactive\n",
    "\n",
    "def filter_table(columns_select,check_ascending,top):\n",
    "    top10 = df_final_scores.sort_values(by=[columns_select],ascending=check_ascending).head(top)\n",
    "    display(top10)\n",
    "\n",
    "interactive(filter_table, columns_select = columns_dropdown, top = top_x, check_ascending = sort_checkbox)"
   ]
  },
  {
   "cell_type": "markdown",
   "metadata": {},
   "source": [
    "-----------------------------------"
   ]
  },
  {
   "cell_type": "markdown",
   "metadata": {},
   "source": [
    "# -- Interactive map and table - prepared for Voilà --"
   ]
  },
  {
   "cell_type": "markdown",
   "metadata": {},
   "source": [
    "To enable dropdown visualisation of different approaches, we also manually code them in the \"scores_final\" dataframe, as per approach that the stakeholder can select in the map.\n",
    "\n",
    "Here, the stakeholder does not have an option to create custom weights, but can use the predefined approaches. If the stakeholder wants to use individual weights, we recommend to use the sliders above and execute cells in Jupyter. \n",
    "\n",
    "This code works in Voila. "
   ]
  },
  {
   "cell_type": "code",
   "execution_count": 80,
   "metadata": {},
   "outputs": [],
   "source": [
    "df_final_scores.set_index('id',drop=False,inplace=True)"
   ]
  },
  {
   "cell_type": "markdown",
   "metadata": {},
   "source": [
    "Not to pollute original dataframe, we create copies that will be used for the visualisation"
   ]
  },
  {
   "cell_type": "code",
   "execution_count": 81,
   "metadata": {},
   "outputs": [],
   "source": [
    "df_tradition = df_scores.copy()\n",
    "df_cost = df_scores.copy()\n",
    "df_partner = df_scores.copy()\n",
    "df_balance = df_scores.copy()"
   ]
  },
  {
   "cell_type": "markdown",
   "metadata": {},
   "source": [
    "We use the same logic for scoring as when creating the table"
   ]
  },
  {
   "cell_type": "code",
   "execution_count": 82,
   "metadata": {},
   "outputs": [],
   "source": [
    "## Traditional\n",
    "\n",
    "CostToImportBorder_W = 2\n",
    "DistanceToIE_W = 10\n",
    "Tariff_W = 7\n",
    "TimeToImport_W = 7\n",
    "Bovine_Share_W = 2\n",
    "Total_Meat_W = 2\n",
    "Milk_W = 2\n",
    "ShortTermRisk_W = 10\n",
    "MediumTermRisk_W = 2\n",
    "PartnersRank_W = 10\n",
    "Agr_land_per_W = 2\n",
    "GDPGrowth_W = 10\n",
    "GDPppp_W = 6\n",
    "Inflation_W = 5\n",
    "Population_W = 2\n",
    "ServicesFromGDP_W = 6\n",
    "Unemployment_W = 5\n",
    "\n",
    "df_tradition['Macroeconomic Score'] = df_scores['GDPGrowth']*GDPGrowth_W + df_scores['GDPppp']*GDPppp_W + df_scores['Inflation']*Inflation_W + df_scores['Unemployment']*Unemployment_W + df_scores['Population']*Population_W + df_scores['Agr_land_per'] * Agr_land_per_W + df_scores['ServicesFromGDP'] * ServicesFromGDP_W\n",
    "df_tradition['Liability of Foreignness: Cultural Score'] = 0\n",
    "if include_meat == True: \n",
    "        df_tradition['Liability of Foreignness: Cultural Score'] = df_tradition['Liability of Foreignness: Cultural Score'] + df_scores['Bovine_Share'] * Bovine_Share_W + df_scores['Total_Meat'] * Total_Meat_W\n",
    "if include_dairy == True:\n",
    "        df_tradition['Liability of Foreignness: Cultural Score'] = df_tradition['Liability of Foreignness: Cultural Score'] + df_scores['Milk'] * Milk_W\n",
    "df_tradition['Liability of Foreignness: Political Score'] = df_scores['MediumTermRisk']* MediumTermRisk_W + df_scores['ShortTermRisk'] * ShortTermRisk_W + df_scores['PartnerRank'] * PartnersRank_W\n",
    "df_tradition['Liability of Foreignness'] = df_tradition['Liability of Foreignness: Cultural Score']  + df_tradition['Liability of Foreignness: Political Score']\n",
    "df_tradition['Cost of Doing Business Abroad Score'] = df_scores['Tariff']*Tariff_W + df_scores['TimeToImport']*TimeToImport_W + df_scores['DistanceToIE']*DistanceToIE_W + df_scores['CostToImportBorder'] * CostToImportBorder_W\n",
    "    # since export score is a sum of all categories, summing them all together\n",
    "df_tradition['Export Score'] = df_tradition['Liability of Foreignness'] + df_tradition['Macroeconomic Score'] + df_tradition['Cost of Doing Business Abroad Score']\n",
    "    # rounding for nicer numbers\n",
    "df_tradition['Export Score'] = round(df_tradition['Export Score'], 2)\n",
    "df_final['Export Score - Traditional'] = df_tradition['Export Score']\n",
    "\n",
    "## Cost\n",
    "CostToImportBorder_W = 8\n",
    "DistanceToIE_W = 10\n",
    "Tariff_W = 10\n",
    "TimeToImport_W = 4\n",
    "Bovine_Share_W = 2\n",
    "Total_Meat_W = 2\n",
    "Milk_W = 2\n",
    "ShortTermRisk_W = 5\n",
    "MediumTermRisk_W = 8\n",
    "PartnersRank_W = 7\n",
    "Agr_land_per_W = 2\n",
    "GDPGrowth_W = 8\n",
    "GDPppp_W = 2\n",
    "Inflation_W = 2\n",
    "Population_W = 10\n",
    "ServicesFromGDP_W = 6\n",
    "Unemployment_W = 2\n",
    "\n",
    "df_cost['Macroeconomic Score'] = df_scores['GDPGrowth']*GDPGrowth_W + df_scores['GDPppp']*GDPppp_W + df_scores['Inflation']*Inflation_W + df_scores['Unemployment']*Unemployment_W + df_scores['Population']*Population_W + df_scores['Agr_land_per'] * Agr_land_per_W + df_scores['ServicesFromGDP'] * ServicesFromGDP_W\n",
    "df_cost['Liability of Foreignness: Cultural Score'] = 0\n",
    "if include_meat == True: \n",
    "        df_cost['Liability of Foreignness: Cultural Score'] = df_cost['Liability of Foreignness: Cultural Score'] + df_scores['Bovine_Share'] * Bovine_Share_W + df_scores['Total_Meat'] * Total_Meat_W\n",
    "if include_dairy == True:\n",
    "        df_cost['Liability of Foreignness: Cultural Score'] = df_cost['Liability of Foreignness: Cultural Score'] + df_scores['Milk'] * Milk_W\n",
    "df_cost['Liability of Foreignness: Political Score'] = df_scores['MediumTermRisk']* MediumTermRisk_W + df_scores['ShortTermRisk'] * ShortTermRisk_W + df_scores['PartnerRank'] * PartnersRank_W\n",
    "df_cost['Liability of Foreignness'] = df_cost['Liability of Foreignness: Cultural Score']  + df_cost['Liability of Foreignness: Political Score']\n",
    "df_cost['Cost of Doing Business Abroad Score'] = df_scores['Tariff']*Tariff_W + df_scores['TimeToImport']*TimeToImport_W + df_scores['DistanceToIE']*DistanceToIE_W + df_scores['CostToImportBorder'] * CostToImportBorder_W\n",
    "    # since export score is a sum of all categories, summing them all together\n",
    "df_cost['Export Score'] = df_cost['Liability of Foreignness'] + df_cost['Macroeconomic Score'] + df_cost['Cost of Doing Business Abroad Score']\n",
    "    # rounding for nicer numbers\n",
    "df_final['Export Score - Cost'] = round(df_cost['Export Score'], 2)\n",
    "\n",
    "\n",
    "## Partner\n",
    "\n",
    "CostToImportBorder_W = 2\n",
    "DistanceToIE_W = 10\n",
    "Tariff_W = 2\n",
    "TimeToImport_W = 3\n",
    "Bovine_Share_W = 8\n",
    "Total_Meat_W = 8\n",
    "Milk_W = 8\n",
    "ShortTermRisk_W = 4\n",
    "MediumTermRisk_W = 10\n",
    "PartnersRank_W = 4\n",
    "Agr_land_per_W = 6\n",
    "GDPGrowth_W = 3\n",
    "GDPppp_W = 5\n",
    "Inflation_W = 3\n",
    "Population_W = 3\n",
    "ServicesFromGDP_W = 8\n",
    "Unemployment_W = 3\n",
    "\n",
    "df_partner['Macroeconomic Score'] = df_scores['GDPGrowth']*GDPGrowth_W + df_scores['GDPppp']*GDPppp_W + df_scores['Inflation']*Inflation_W + df_scores['Unemployment']*Unemployment_W + df_scores['Population']*Population_W + df_scores['Agr_land_per'] * Agr_land_per_W + df_scores['ServicesFromGDP'] * ServicesFromGDP_W\n",
    "df_partner['Liability of Foreignness: Cultural Score'] = 0\n",
    "if include_meat == True: \n",
    "        df_partner['Liability of Foreignness: Cultural Score'] = df_partner['Liability of Foreignness: Cultural Score'] + df_scores['Bovine_Share'] * Bovine_Share_W + df_scores['Total_Meat'] * Total_Meat_W\n",
    "if include_dairy == True:\n",
    "        df_partner['Liability of Foreignness: Cultural Score'] = df_partner['Liability of Foreignness: Cultural Score'] + df_scores['Milk'] * Milk_W\n",
    "df_partner['Liability of Foreignness: Political Score'] = df_scores['MediumTermRisk']* MediumTermRisk_W + df_scores['ShortTermRisk'] * ShortTermRisk_W + df_scores['PartnerRank'] * PartnersRank_W\n",
    "df_partner['Liability of Foreignness'] = df_partner['Liability of Foreignness: Cultural Score']  + df_partner['Liability of Foreignness: Political Score']\n",
    "df_partner['Cost of Doing Business Abroad Score'] = df_scores['Tariff']*Tariff_W + df_scores['TimeToImport']*TimeToImport_W + df_scores['DistanceToIE']*DistanceToIE_W + df_scores['CostToImportBorder'] * CostToImportBorder_W\n",
    "    # since export score is a sum of all categories, summing them all together\n",
    "df_partner['Export Score'] = df_partner['Liability of Foreignness'] + df_partner['Macroeconomic Score'] + df_partner['Cost of Doing Business Abroad Score']\n",
    "    # rounding for nicer numbers\n",
    "df_final['Export Score - Partner'] = round(df_partner['Export Score'], 2)\n",
    "\n",
    "\n",
    "## Balance\n",
    "\n",
    "CostToImportBorder_W = 7.5\n",
    "DistanceToIE_W = 7.5\n",
    "Tariff_W = 7.5\n",
    "TimeToImport_W = 7.5\n",
    "Bovine_Share_W = 5\n",
    "Total_Meat_W = 5\n",
    "Milk_W = 5\n",
    "ShortTermRisk_W = 5\n",
    "MediumTermRisk_W = 5\n",
    "PartnersRank_W = 5\n",
    "Agr_land_per_W = 4.285\n",
    "GDPGrowth_W = 4.285\n",
    "GDPppp_W = 4.285\n",
    "Inflation_W = 4.285\n",
    "Population_W = 4.285\n",
    "ServicesFromGDP_W = 4.285\n",
    "Unemployment_W = 4.285\n",
    "\n",
    "df_balance['Macroeconomic Score'] = df_scores['GDPGrowth']*GDPGrowth_W + df_scores['GDPppp']*GDPppp_W + df_scores['Inflation']*Inflation_W + df_scores['Unemployment']*Unemployment_W + df_scores['Population']*Population_W + df_scores['Agr_land_per'] * Agr_land_per_W + df_scores['ServicesFromGDP'] * ServicesFromGDP_W\n",
    "df_balance['Liability of Foreignness: Cultural Score'] = 0\n",
    "if include_meat == True: \n",
    "        df_balance['Liability of Foreignness: Cultural Score'] = df_balance['Liability of Foreignness: Cultural Score'] + df_scores['Bovine_Share'] * Bovine_Share_W + df_scores['Total_Meat'] * Total_Meat_W\n",
    "if include_dairy == True:\n",
    "        df_balance['Liability of Foreignness: Cultural Score'] = df_balance['Liability of Foreignness: Cultural Score'] + df_scores['Milk'] * Milk_W\n",
    "df_balance['Liability of Foreignness: Political Score'] = df_scores['MediumTermRisk']* MediumTermRisk_W + df_scores['ShortTermRisk'] * ShortTermRisk_W + df_scores['PartnerRank'] * PartnersRank_W\n",
    "df_balance['Liability of Foreignness'] = df_balance['Liability of Foreignness: Cultural Score']  + df_balance['Liability of Foreignness: Political Score']\n",
    "df_balance['Cost of Doing Business Abroad Score'] = df_scores['Tariff']*Tariff_W + df_scores['TimeToImport']*TimeToImport_W + df_scores['DistanceToIE']*DistanceToIE_W + df_scores['CostToImportBorder'] * CostToImportBorder_W\n",
    "    # since export score is a sum of all categories, summing them all together\n",
    "df_balance['Export Score'] = df_balance['Liability of Foreignness'] + df_balance['Macroeconomic Score'] + df_balance['Cost of Doing Business Abroad Score']\n",
    "    # rounding for nicer numbers\n",
    "df_final['Export Score - Balance'] = round(df_balance['Export Score'], 2)"
   ]
  },
  {
   "cell_type": "markdown",
   "metadata": {},
   "source": [
    "Now we create a dropdown, based on which the weighed approach will be applied to the map"
   ]
  },
  {
   "cell_type": "code",
   "execution_count": 83,
   "metadata": {},
   "outputs": [],
   "source": [
    "# dropdown that enables picking the approach, based on which it allocates the weights\n",
    "approach2 = widgets.Dropdown(\n",
    "    options=[('Traditional approach', 'Export Score - Traditional'), ('Partner approach', 'Export Score - Partner'), ('Cost-minimising approach', 'Export Score - Cost'), ('Balanced approach','Export Score - Balance')],\n",
    "    value=\"Export Score - Traditional\",\n",
    "    description='Approach'        \n",
    ")"
   ]
  },
  {
   "cell_type": "code",
   "execution_count": 84,
   "metadata": {},
   "outputs": [],
   "source": [
    "def map(Scope='world', pokus = \"Export Score\"):\n",
    "\n",
    "    fig = px.choropleth(df_final, \n",
    "                        locations=\"id\",\n",
    "                        color=pokus,\n",
    "                        hover_name=\"Country\",\n",
    "                        color_continuous_scale=px.colors.sequential.Greens,\n",
    "                        title=(\"Calculated score of export potential for agricultural products\"),\n",
    "                        scope = Scope,\n",
    "                        hover_data={\"Export Score - Traditional\":':,.2s',\n",
    "                                    \"Export Score - Partner\":':,.2s',\n",
    "                                    \"Export Score - Balance\":':,.2s',\n",
    "                                    \"Export Score - Cost\":':,.2s'}\n",
    "                       )\n",
    "\n",
    "    fig.update_layout(\n",
    "        margin=dict(l=0, r=0, t=50, b=20),\n",
    "\n",
    "        annotations = [dict(\n",
    "            x = 0.5,\n",
    "            y = -0.02,\n",
    "            text = \"\",\n",
    "            showarrow = False\n",
    "        )])\n",
    "\n",
    "    fig.show() "
   ]
  },
  {
   "cell_type": "code",
   "execution_count": 85,
   "metadata": {},
   "outputs": [
    {
     "data": {
      "application/vnd.jupyter.widget-view+json": {
       "model_id": "8c8bc0911f464e1d9f09d9542390fd51",
       "version_major": 2,
       "version_minor": 0
      },
      "text/plain": [
       "interactive(children=(Dropdown(description='Scope', options=(('Whole world', 'world'), ('Africa', 'africa'), (…"
      ]
     },
     "metadata": {},
     "output_type": "display_data"
    }
   ],
   "source": [
    "# adding a widget to select a region and easily zoom on the map\n",
    "widgets.interact(map,\n",
    "                 Scope=[('Whole world','world'),('Africa','africa'),('Asia','asia'),('Europe','europe'),('North America','north america'),('South America','south america')], pokus = approach2);\n",
    "\n"
   ]
  },
  {
   "cell_type": "code",
   "execution_count": 86,
   "metadata": {},
   "outputs": [],
   "source": [
    "df_final.set_index('Country',drop=False,inplace=True)"
   ]
  },
  {
   "cell_type": "code",
   "execution_count": 88,
   "metadata": {},
   "outputs": [
    {
     "data": {
      "application/vnd.jupyter.widget-view+json": {
       "model_id": "127246e460df4db580184346c1a49e26",
       "version_major": 2,
       "version_minor": 0
      },
      "text/plain": [
       "interactive(children=(Dropdown(description='Sorting', options=('Export Score - Traditional', 'Export Score - C…"
      ]
     },
     "metadata": {},
     "output_type": "display_data"
    }
   ],
   "source": [
    "from ipywidgets import interactive\n",
    "\n",
    "def filter_table(Sorting,check_ascending,top):\n",
    "    top10 = df_final.filter(regex=' - ').sort_values(by=[Sorting],ascending=check_ascending).head(top)\n",
    "    display(top10)\n",
    "\n",
    "interactive(filter_table, Sorting = df_final.filter(regex=' - '), top = top_x, check_ascending = sort_checkbox)"
   ]
  },
  {
   "cell_type": "code",
   "execution_count": null,
   "metadata": {},
   "outputs": [],
   "source": []
  }
 ],
 "metadata": {
  "kernelspec": {
   "display_name": "Python 3",
   "language": "python",
   "name": "python3"
  },
  "language_info": {
   "codemirror_mode": {
    "name": "ipython",
    "version": 3
   },
   "file_extension": ".py",
   "mimetype": "text/x-python",
   "name": "python",
   "nbconvert_exporter": "python",
   "pygments_lexer": "ipython3",
   "version": "3.8.5"
  }
 },
 "nbformat": 4,
 "nbformat_minor": 4
}
